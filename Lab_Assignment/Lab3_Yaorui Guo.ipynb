{
 "cells": [
  {
   "cell_type": "markdown",
   "id": "e74df963",
   "metadata": {},
   "source": [
    "# Yaorui Guo (yg2815)"
   ]
  },
  {
   "cell_type": "markdown",
   "id": "ce111100",
   "metadata": {},
   "source": [
    "# Lab #3"
   ]
  },
  {
   "cell_type": "code",
   "execution_count": 1,
   "id": "5a0fe5d1",
   "metadata": {},
   "outputs": [],
   "source": [
    "# Some preliminary set up code:\n",
    "from __future__ import division\n",
    "import pandas as pd\n",
    "import numpy as np\n",
    "import statsmodels.api as sm\n",
    "import statsmodels.formula.api as smf\n",
    "import os\n",
    "import matplotlib.pyplot as plt\n",
    "import seaborn as sns\n",
    "\n",
    "import warnings\n",
    "warnings.filterwarnings(\"ignore\")"
   ]
  },
  {
   "cell_type": "code",
   "execution_count": 2,
   "id": "68af8f0d",
   "metadata": {},
   "outputs": [
    {
     "data": {
      "text/html": [
       "<div>\n",
       "<style scoped>\n",
       "    .dataframe tbody tr th:only-of-type {\n",
       "        vertical-align: middle;\n",
       "    }\n",
       "\n",
       "    .dataframe tbody tr th {\n",
       "        vertical-align: top;\n",
       "    }\n",
       "\n",
       "    .dataframe thead th {\n",
       "        text-align: right;\n",
       "    }\n",
       "</style>\n",
       "<table border=\"1\" class=\"dataframe\">\n",
       "  <thead>\n",
       "    <tr style=\"text-align: right;\">\n",
       "      <th></th>\n",
       "      <th>vpsu</th>\n",
       "      <th>vstrat</th>\n",
       "      <th>adults</th>\n",
       "      <th>ballot</th>\n",
       "      <th>dateintv</th>\n",
       "      <th>famgen</th>\n",
       "      <th>form</th>\n",
       "      <th>formwt</th>\n",
       "      <th>gender1</th>\n",
       "      <th>hompop</th>\n",
       "      <th>...</th>\n",
       "      <th>away7</th>\n",
       "      <th>gender14</th>\n",
       "      <th>old14</th>\n",
       "      <th>relate14</th>\n",
       "      <th>relhh14</th>\n",
       "      <th>relhhd14</th>\n",
       "      <th>relsp14</th>\n",
       "      <th>where12</th>\n",
       "      <th>where6</th>\n",
       "      <th>where7</th>\n",
       "    </tr>\n",
       "  </thead>\n",
       "  <tbody>\n",
       "    <tr>\n",
       "      <th>0</th>\n",
       "      <td>1</td>\n",
       "      <td>1957</td>\n",
       "      <td>1</td>\n",
       "      <td>3</td>\n",
       "      <td>316</td>\n",
       "      <td>2</td>\n",
       "      <td>1</td>\n",
       "      <td>1</td>\n",
       "      <td>2</td>\n",
       "      <td>3</td>\n",
       "      <td>...</td>\n",
       "      <td>NaN</td>\n",
       "      <td>NaN</td>\n",
       "      <td>NaN</td>\n",
       "      <td>NaN</td>\n",
       "      <td>NaN</td>\n",
       "      <td>NaN</td>\n",
       "      <td>NaN</td>\n",
       "      <td>NaN</td>\n",
       "      <td>NaN</td>\n",
       "      <td>NaN</td>\n",
       "    </tr>\n",
       "    <tr>\n",
       "      <th>1</th>\n",
       "      <td>1</td>\n",
       "      <td>1957</td>\n",
       "      <td>2</td>\n",
       "      <td>2</td>\n",
       "      <td>630</td>\n",
       "      <td>1</td>\n",
       "      <td>2</td>\n",
       "      <td>1</td>\n",
       "      <td>2</td>\n",
       "      <td>2</td>\n",
       "      <td>...</td>\n",
       "      <td>NaN</td>\n",
       "      <td>NaN</td>\n",
       "      <td>NaN</td>\n",
       "      <td>NaN</td>\n",
       "      <td>NaN</td>\n",
       "      <td>NaN</td>\n",
       "      <td>NaN</td>\n",
       "      <td>NaN</td>\n",
       "      <td>NaN</td>\n",
       "      <td>NaN</td>\n",
       "    </tr>\n",
       "    <tr>\n",
       "      <th>2</th>\n",
       "      <td>1</td>\n",
       "      <td>1957</td>\n",
       "      <td>2</td>\n",
       "      <td>2</td>\n",
       "      <td>314</td>\n",
       "      <td>2</td>\n",
       "      <td>1</td>\n",
       "      <td>1</td>\n",
       "      <td>2</td>\n",
       "      <td>2</td>\n",
       "      <td>...</td>\n",
       "      <td>NaN</td>\n",
       "      <td>NaN</td>\n",
       "      <td>NaN</td>\n",
       "      <td>NaN</td>\n",
       "      <td>NaN</td>\n",
       "      <td>NaN</td>\n",
       "      <td>NaN</td>\n",
       "      <td>NaN</td>\n",
       "      <td>NaN</td>\n",
       "      <td>NaN</td>\n",
       "    </tr>\n",
       "    <tr>\n",
       "      <th>3</th>\n",
       "      <td>1</td>\n",
       "      <td>1957</td>\n",
       "      <td>1</td>\n",
       "      <td>1</td>\n",
       "      <td>313</td>\n",
       "      <td>1</td>\n",
       "      <td>2</td>\n",
       "      <td>1</td>\n",
       "      <td>2</td>\n",
       "      <td>1</td>\n",
       "      <td>...</td>\n",
       "      <td>NaN</td>\n",
       "      <td>NaN</td>\n",
       "      <td>NaN</td>\n",
       "      <td>NaN</td>\n",
       "      <td>NaN</td>\n",
       "      <td>NaN</td>\n",
       "      <td>NaN</td>\n",
       "      <td>NaN</td>\n",
       "      <td>NaN</td>\n",
       "      <td>NaN</td>\n",
       "    </tr>\n",
       "    <tr>\n",
       "      <th>4</th>\n",
       "      <td>1</td>\n",
       "      <td>1957</td>\n",
       "      <td>3</td>\n",
       "      <td>1</td>\n",
       "      <td>322</td>\n",
       "      <td>2</td>\n",
       "      <td>2</td>\n",
       "      <td>1</td>\n",
       "      <td>2</td>\n",
       "      <td>3</td>\n",
       "      <td>...</td>\n",
       "      <td>NaN</td>\n",
       "      <td>NaN</td>\n",
       "      <td>NaN</td>\n",
       "      <td>NaN</td>\n",
       "      <td>NaN</td>\n",
       "      <td>NaN</td>\n",
       "      <td>NaN</td>\n",
       "      <td>NaN</td>\n",
       "      <td>NaN</td>\n",
       "      <td>NaN</td>\n",
       "    </tr>\n",
       "  </tbody>\n",
       "</table>\n",
       "<p>5 rows × 1261 columns</p>\n",
       "</div>"
      ],
      "text/plain": [
       "   vpsu  vstrat  adults  ballot  dateintv  famgen  form  formwt  gender1  \\\n",
       "0     1    1957       1       3       316       2     1       1        2   \n",
       "1     1    1957       2       2       630       1     2       1        2   \n",
       "2     1    1957       2       2       314       2     1       1        2   \n",
       "3     1    1957       1       1       313       1     2       1        2   \n",
       "4     1    1957       3       1       322       2     2       1        2   \n",
       "\n",
       "   hompop  ...  away7  gender14  old14  relate14  relhh14  relhhd14  relsp14  \\\n",
       "0       3  ...    NaN       NaN    NaN       NaN      NaN       NaN      NaN   \n",
       "1       2  ...    NaN       NaN    NaN       NaN      NaN       NaN      NaN   \n",
       "2       2  ...    NaN       NaN    NaN       NaN      NaN       NaN      NaN   \n",
       "3       1  ...    NaN       NaN    NaN       NaN      NaN       NaN      NaN   \n",
       "4       3  ...    NaN       NaN    NaN       NaN      NaN       NaN      NaN   \n",
       "\n",
       "   where12  where6  where7  \n",
       "0      NaN     NaN     NaN  \n",
       "1      NaN     NaN     NaN  \n",
       "2      NaN     NaN     NaN  \n",
       "3      NaN     NaN     NaN  \n",
       "4      NaN     NaN     NaN  \n",
       "\n",
       "[5 rows x 1261 columns]"
      ]
     },
     "execution_count": 2,
     "metadata": {},
     "output_type": "execute_result"
    }
   ],
   "source": [
    "os.chdir('/Users/gyr/Desktop/5019_Python/dataset')\n",
    "\n",
    "g = pd.read_csv(\"GSS.2006.csv\")\n",
    "g.head()"
   ]
  },
  {
   "cell_type": "markdown",
   "id": "3bf52097",
   "metadata": {},
   "source": [
    "# 1. Run a simple bivariate regression, and interpret your results. (Did the results fit your expectations? Why? Why not?)"
   ]
  },
  {
   "cell_type": "markdown",
   "id": "cde4297b",
   "metadata": {},
   "source": [
    "## I would like to know if people's work status affects their mental health. Therefore, I chose the question of whether people's lack of respect at work can cause a deterioration in their mental health.\n",
    "\n",
    "## The variable '*mntlhlth*' represents the number of days in a month with bad health from 1 to 30, the larger the value the more days with bad health.\n",
    "\n",
    "## The variable '*respect*' from 1 to 4 represent the lack of respect, the higher the value the less respect is felt. \n",
    "\n",
    "- 458) Now thinking about your mental health, which includes stress, depression, and problems with emotions, for how many days during the past 30 days was your mental health not good? (mntlhlth)\n",
    "\n",
    "- 412) At the place where I work, I am treated with respect. (respect)"
   ]
  },
  {
   "cell_type": "code",
   "execution_count": 3,
   "id": "4a7ddb63",
   "metadata": {},
   "outputs": [],
   "source": [
    "# pd.crosstab(g.mntlhlth,g.respect)"
   ]
  },
  {
   "cell_type": "code",
   "execution_count": 4,
   "id": "ad765be6",
   "metadata": {},
   "outputs": [
    {
     "data": {
      "image/png": "[encoded data removed]",
      "text/plain": [
       "<Figure size 432x288 with 1 Axes>"
      ]
     },
     "metadata": {
      "needs_background": "light"
     },
     "output_type": "display_data"
    }
   ],
   "source": [
    "sns.boxplot(x=\"respect\", y=\"mntlhlth\",data=g)\n",
    "plt.show()"
   ]
  },
  {
   "cell_type": "markdown",
   "id": "f179efd8",
   "metadata": {},
   "source": [
    "## From the boxplot, we can see that the not feeling respect at work is stronger, and the number of days of bad mental health is increasing"
   ]
  },
  {
   "cell_type": "code",
   "execution_count": 5,
   "id": "80b8ddcf",
   "metadata": {},
   "outputs": [
    {
     "name": "stdout",
     "output_type": "stream",
     "text": [
      "                            OLS Regression Results                            \n",
      "==============================================================================\n",
      "Dep. Variable:               mntlhlth   R-squared:                       0.044\n",
      "Model:                            OLS   Adj. R-squared:                  0.043\n",
      "Method:                 Least Squares   F-statistic:                     77.85\n",
      "Date:                Thu, 16 Jun 2022   Prob (F-statistic):           2.69e-18\n",
      "Time:                        11:31:41   Log-Likelihood:                -5593.7\n",
      "No. Observations:                1703   AIC:                         1.119e+04\n",
      "Df Residuals:                    1701   BIC:                         1.120e+04\n",
      "Df Model:                           1                                         \n",
      "Covariance Type:            nonrobust                                         \n",
      "==============================================================================\n",
      "                 coef    std err          t      P>|t|      [0.025      0.975]\n",
      "------------------------------------------------------------------------------\n",
      "Intercept     -0.4988      0.423     -1.178      0.239      -1.329       0.331\n",
      "respect        2.0512      0.232      8.823      0.000       1.595       2.507\n",
      "==============================================================================\n",
      "Omnibus:                      990.584   Durbin-Watson:                   1.966\n",
      "Prob(Omnibus):                  0.000   Jarque-Bera (JB):             6478.640\n",
      "Skew:                           2.794   Prob(JB):                         0.00\n",
      "Kurtosis:                      10.752   Cond. No.                         6.25\n",
      "==============================================================================\n",
      "\n",
      "Notes:\n",
      "[1] Standard Errors assume that the covariance matrix of the errors is correctly specified.\n"
     ]
    }
   ],
   "source": [
    "lm1 = smf.ols(formula = 'mntlhlth~respect', data = g).fit()\n",
    "print(lm1.summary())"
   ]
  },
  {
   "cell_type": "markdown",
   "id": "a6a0dae6",
   "metadata": {},
   "source": [
    "## The regression results show that the number of days a person has bad mental health increases by nearly 2 points for feelings of disrespect at work. \n",
    "\n",
    "## This result met my expectations because I know that workplace bullying is a big problem at work. In China, there is a very significant hierarchical structure in the workplace that leads to employees having to comply with any requests made by their superiors, which can lead to serious mental illness in many employees in the long run."
   ]
  },
  {
   "cell_type": "markdown",
   "id": "4cfb9e9a",
   "metadata": {},
   "source": [
    "# 2. Add an additional variable that might mediate or partly \"explain\" the initial association from that simple regression above -- and explain your results. Did it work out? Yes? No?"
   ]
  },
  {
   "cell_type": "markdown",
   "id": "1de3481c",
   "metadata": {},
   "source": [
    "## Another problem at work is workload, and I wonder if this also affects people's mental health\n",
    "\n",
    "## The variable '*overwork*'  is described as having too much work that interferes with other things, which I tend to interpret as workload or extra work (overtime). It is from 1 to 4 represent the amount of work, the higher the value the smaller the workload.\n",
    "- 409) I have too much work to do everything well. (overwork)"
   ]
  },
  {
   "cell_type": "code",
   "execution_count": 6,
   "id": "7e9e6894",
   "metadata": {},
   "outputs": [
    {
     "data": {
      "image/png": "[encoded data removed]",
      "text/plain": [
       "<Figure size 432x288 with 1 Axes>"
      ]
     },
     "metadata": {
      "needs_background": "light"
     },
     "output_type": "display_data"
    }
   ],
   "source": [
    "sns.boxplot(x=\"overwork\", y=\"mntlhlth\",data=g)\n",
    "plt.show()"
   ]
  },
  {
   "cell_type": "markdown",
   "id": "8035f819",
   "metadata": {},
   "source": [
    "## The boxplot shows that as the workload decreases the number of days of mental ill health can be reduced."
   ]
  },
  {
   "cell_type": "code",
   "execution_count": 7,
   "id": "891b6115",
   "metadata": {},
   "outputs": [
    {
     "name": "stdout",
     "output_type": "stream",
     "text": [
      "                            OLS Regression Results                            \n",
      "==============================================================================\n",
      "Dep. Variable:               mntlhlth   R-squared:                       0.050\n",
      "Model:                            OLS   Adj. R-squared:                  0.049\n",
      "Method:                 Least Squares   F-statistic:                     44.91\n",
      "Date:                Thu, 16 Jun 2022   Prob (F-statistic):           9.89e-20\n",
      "Time:                        11:31:41   Log-Likelihood:                -5562.3\n",
      "No. Observations:                1697   AIC:                         1.113e+04\n",
      "Df Residuals:                    1694   BIC:                         1.115e+04\n",
      "Df Model:                           2                                         \n",
      "Covariance Type:            nonrobust                                         \n",
      "==============================================================================\n",
      "                 coef    std err          t      P>|t|      [0.025      0.975]\n",
      "------------------------------------------------------------------------------\n",
      "Intercept      1.5320      0.773      1.982      0.048       0.016       3.048\n",
      "respect        2.0088      0.233      8.637      0.000       1.553       2.465\n",
      "overwork      -0.7043      0.221     -3.186      0.001      -1.138      -0.271\n",
      "==============================================================================\n",
      "Omnibus:                      980.343   Durbin-Watson:                   1.969\n",
      "Prob(Omnibus):                  0.000   Jarque-Bera (JB):             6351.525\n",
      "Skew:                           2.772   Prob(JB):                         0.00\n",
      "Kurtosis:                      10.686   Cond. No.                         17.9\n",
      "==============================================================================\n",
      "\n",
      "Notes:\n",
      "[1] Standard Errors assume that the covariance matrix of the errors is correctly specified.\n"
     ]
    }
   ],
   "source": [
    "# add new varibale to original regresson model\n",
    "lm2 = smf.ols(formula = 'mntlhlth~respect+overwork', data = g).fit()\n",
    "print (lm2.summary())"
   ]
  },
  {
   "cell_type": "markdown",
   "id": "f9f4aa7f",
   "metadata": {},
   "source": [
    "## The regression results illustrate that controlling for level of respect, the number of days with bad mental health decreases by 0.7 points, on average, as the workload decreases.\n",
    "\n",
    "## From the results, the variable 'overwork' does mediate the variable 'mntlhlth' even though the coefficient is not as large as another variable'respect'.\n",
    "\n",
    "## As I expected, a large part of people's mental health problems come from work, and workload at work is a serious social problem. The increasing workload of young people and the increasing amount of overtime work has led to serious mental health problems in modern times. I think this problem will be more obvious and acute if we use the recent dataset."
   ]
  },
  {
   "cell_type": "markdown",
   "id": "5f76dfd5",
   "metadata": {},
   "source": [
    "# 3. Run another multiple regression. Tell me how you expect your dependent variable to be affected by the independent variables. Interpret your results.\n"
   ]
  },
  {
   "cell_type": "markdown",
   "id": "156b4b89",
   "metadata": {},
   "source": [
    "## I would like to know what is the standard of happiness of Chinese people, in other words whether people feel happy because of good health, family harmony, and as they grow older."
   ]
  },
  {
   "cell_type": "code",
   "execution_count": 8,
   "id": "135aaa2c",
   "metadata": {},
   "outputs": [
    {
     "data": {
      "text/html": [
       "<div>\n",
       "<style scoped>\n",
       "    .dataframe tbody tr th:only-of-type {\n",
       "        vertical-align: middle;\n",
       "    }\n",
       "\n",
       "    .dataframe tbody tr th {\n",
       "        vertical-align: top;\n",
       "    }\n",
       "\n",
       "    .dataframe thead th {\n",
       "        text-align: right;\n",
       "    }\n",
       "</style>\n",
       "<table border=\"1\" class=\"dataframe\">\n",
       "  <thead>\n",
       "    <tr style=\"text-align: right;\">\n",
       "      <th></th>\n",
       "      <th>V1</th>\n",
       "      <th>V2</th>\n",
       "      <th>V2A</th>\n",
       "      <th>V3</th>\n",
       "      <th>V4</th>\n",
       "      <th>V5</th>\n",
       "      <th>V6</th>\n",
       "      <th>V7</th>\n",
       "      <th>V8</th>\n",
       "      <th>V9</th>\n",
       "      <th>...</th>\n",
       "      <th>V224_ESMA</th>\n",
       "      <th>V228_2</th>\n",
       "      <th>V243_AU</th>\n",
       "      <th>V244_AU</th>\n",
       "      <th>V248_CS</th>\n",
       "      <th>V253_CS</th>\n",
       "      <th>V256B</th>\n",
       "      <th>V256C</th>\n",
       "      <th>sacsecval</th>\n",
       "      <th>secvalwgt</th>\n",
       "    </tr>\n",
       "  </thead>\n",
       "  <tbody>\n",
       "    <tr>\n",
       "      <th>0</th>\n",
       "      <td>6</td>\n",
       "      <td>12</td>\n",
       "      <td>12</td>\n",
       "      <td>1.0</td>\n",
       "      <td>1.0</td>\n",
       "      <td>1.0</td>\n",
       "      <td>1.0</td>\n",
       "      <td>NaN</td>\n",
       "      <td>1.0</td>\n",
       "      <td>1.0</td>\n",
       "      <td>...</td>\n",
       "      <td>NaN</td>\n",
       "      <td>NaN</td>\n",
       "      <td>NaN</td>\n",
       "      <td>NaN</td>\n",
       "      <td>NaN</td>\n",
       "      <td>NaN</td>\n",
       "      <td>NaN</td>\n",
       "      <td>NaN</td>\n",
       "      <td>0.300476</td>\n",
       "      <td>1.0</td>\n",
       "    </tr>\n",
       "    <tr>\n",
       "      <th>1</th>\n",
       "      <td>6</td>\n",
       "      <td>12</td>\n",
       "      <td>12</td>\n",
       "      <td>2.0</td>\n",
       "      <td>1.0</td>\n",
       "      <td>2.0</td>\n",
       "      <td>3.0</td>\n",
       "      <td>4.0</td>\n",
       "      <td>2.0</td>\n",
       "      <td>2.0</td>\n",
       "      <td>...</td>\n",
       "      <td>NaN</td>\n",
       "      <td>NaN</td>\n",
       "      <td>NaN</td>\n",
       "      <td>NaN</td>\n",
       "      <td>NaN</td>\n",
       "      <td>NaN</td>\n",
       "      <td>NaN</td>\n",
       "      <td>NaN</td>\n",
       "      <td>0.301905</td>\n",
       "      <td>1.0</td>\n",
       "    </tr>\n",
       "    <tr>\n",
       "      <th>2</th>\n",
       "      <td>6</td>\n",
       "      <td>12</td>\n",
       "      <td>12</td>\n",
       "      <td>3.0</td>\n",
       "      <td>1.0</td>\n",
       "      <td>3.0</td>\n",
       "      <td>2.0</td>\n",
       "      <td>4.0</td>\n",
       "      <td>2.0</td>\n",
       "      <td>1.0</td>\n",
       "      <td>...</td>\n",
       "      <td>NaN</td>\n",
       "      <td>NaN</td>\n",
       "      <td>NaN</td>\n",
       "      <td>NaN</td>\n",
       "      <td>NaN</td>\n",
       "      <td>NaN</td>\n",
       "      <td>NaN</td>\n",
       "      <td>NaN</td>\n",
       "      <td>0.386071</td>\n",
       "      <td>1.0</td>\n",
       "    </tr>\n",
       "    <tr>\n",
       "      <th>3</th>\n",
       "      <td>6</td>\n",
       "      <td>12</td>\n",
       "      <td>12</td>\n",
       "      <td>4.0</td>\n",
       "      <td>1.0</td>\n",
       "      <td>1.0</td>\n",
       "      <td>3.0</td>\n",
       "      <td>4.0</td>\n",
       "      <td>3.0</td>\n",
       "      <td>1.0</td>\n",
       "      <td>...</td>\n",
       "      <td>NaN</td>\n",
       "      <td>NaN</td>\n",
       "      <td>NaN</td>\n",
       "      <td>NaN</td>\n",
       "      <td>NaN</td>\n",
       "      <td>NaN</td>\n",
       "      <td>NaN</td>\n",
       "      <td>NaN</td>\n",
       "      <td>0.344405</td>\n",
       "      <td>1.0</td>\n",
       "    </tr>\n",
       "    <tr>\n",
       "      <th>4</th>\n",
       "      <td>6</td>\n",
       "      <td>12</td>\n",
       "      <td>12</td>\n",
       "      <td>5.0</td>\n",
       "      <td>1.0</td>\n",
       "      <td>1.0</td>\n",
       "      <td>1.0</td>\n",
       "      <td>2.0</td>\n",
       "      <td>1.0</td>\n",
       "      <td>1.0</td>\n",
       "      <td>...</td>\n",
       "      <td>NaN</td>\n",
       "      <td>NaN</td>\n",
       "      <td>NaN</td>\n",
       "      <td>NaN</td>\n",
       "      <td>NaN</td>\n",
       "      <td>NaN</td>\n",
       "      <td>NaN</td>\n",
       "      <td>NaN</td>\n",
       "      <td>0.304167</td>\n",
       "      <td>1.0</td>\n",
       "    </tr>\n",
       "  </tbody>\n",
       "</table>\n",
       "<p>5 rows × 381 columns</p>\n",
       "</div>"
      ],
      "text/plain": [
       "   V1  V2  V2A   V3   V4   V5   V6   V7   V8   V9  ...  V224_ESMA  V228_2  \\\n",
       "0   6  12   12  1.0  1.0  1.0  1.0  NaN  1.0  1.0  ...        NaN     NaN   \n",
       "1   6  12   12  2.0  1.0  2.0  3.0  4.0  2.0  2.0  ...        NaN     NaN   \n",
       "2   6  12   12  3.0  1.0  3.0  2.0  4.0  2.0  1.0  ...        NaN     NaN   \n",
       "3   6  12   12  4.0  1.0  1.0  3.0  4.0  3.0  1.0  ...        NaN     NaN   \n",
       "4   6  12   12  5.0  1.0  1.0  1.0  2.0  1.0  1.0  ...        NaN     NaN   \n",
       "\n",
       "   V243_AU  V244_AU  V248_CS  V253_CS  V256B  V256C  sacsecval  secvalwgt  \n",
       "0      NaN      NaN      NaN      NaN    NaN    NaN   0.300476        1.0  \n",
       "1      NaN      NaN      NaN      NaN    NaN    NaN   0.301905        1.0  \n",
       "2      NaN      NaN      NaN      NaN    NaN    NaN   0.386071        1.0  \n",
       "3      NaN      NaN      NaN      NaN    NaN    NaN   0.344405        1.0  \n",
       "4      NaN      NaN      NaN      NaN    NaN    NaN   0.304167        1.0  \n",
       "\n",
       "[5 rows x 381 columns]"
      ]
     },
     "execution_count": 8,
     "metadata": {},
     "output_type": "execute_result"
    }
   ],
   "source": [
    "d = pd.read_csv(\"WVS.csv\")\n",
    "d.head()"
   ]
  },
  {
   "cell_type": "code",
   "execution_count": 35,
   "id": "416f4b8e",
   "metadata": {},
   "outputs": [],
   "source": [
    "d.rename(columns={'V10':'happiness',# Feeling of happiness\n",
    "                  'V102':'fam_trust',# How much you trust: Your family\n",
    "                  'V11':'health', # State of health \n",
    "                  'V58':'child',# How many children do you have\n",
    "                  'V242':'age',\n",
    "                  'V55':'freedom' #How much freedom of choice and control\n",
    "                 }, \n",
    "                 inplace=True)"
   ]
  },
  {
   "cell_type": "code",
   "execution_count": 10,
   "id": "13eadbb4",
   "metadata": {},
   "outputs": [],
   "source": [
    "# for col in d.columns: \n",
    "#     print(col)"
   ]
  },
  {
   "cell_type": "code",
   "execution_count": 11,
   "id": "06f44dea",
   "metadata": {},
   "outputs": [],
   "source": [
    "# chccek for values range of each variable\n",
    "# pd.crosstab(d.happiness,d.fam_trust)"
   ]
  },
  {
   "cell_type": "markdown",
   "id": "c45f28e2",
   "metadata": {},
   "source": [
    "### I reverse code these independent variables and the dependent variables to make the interpretion easily and clearly."
   ]
  },
  {
   "cell_type": "code",
   "execution_count": 36,
   "id": "c82086cf",
   "metadata": {},
   "outputs": [],
   "source": [
    "d['rhappiness']=5-(d['happiness']) \n",
    "## reverse code happiness variable - higher variable means more happy ... ##"
   ]
  },
  {
   "cell_type": "code",
   "execution_count": 37,
   "id": "78a70fad",
   "metadata": {},
   "outputs": [],
   "source": [
    "d['rhealth']=5-(d['health']) \n",
    "## reverse code health variable - higher variable means more healthy ... ##"
   ]
  },
  {
   "cell_type": "code",
   "execution_count": 38,
   "id": "f3c8d2c6",
   "metadata": {},
   "outputs": [],
   "source": [
    "d['rfam_trust']=5-(d['fam_trust']) \n",
    "## reverse code fam_trust variable - higher variable means more trust on family ... ##"
   ]
  },
  {
   "cell_type": "markdown",
   "id": "f6a163eb",
   "metadata": {},
   "source": [
    "## I am going to focus only on China, which is country code (V2) of 156."
   ]
  },
  {
   "cell_type": "code",
   "execution_count": 15,
   "id": "a0f7206d",
   "metadata": {},
   "outputs": [
    {
     "name": "stdout",
     "output_type": "stream",
     "text": [
      "                            OLS Regression Results                            \n",
      "==============================================================================\n",
      "Dep. Variable:             rhappiness   R-squared:                       0.149\n",
      "Model:                            OLS   Adj. R-squared:                  0.148\n",
      "Method:                 Least Squares   F-statistic:                     125.5\n",
      "Date:                Thu, 16 Jun 2022   Prob (F-statistic):           6.74e-75\n",
      "Time:                        11:31:44   Log-Likelihood:                -1730.7\n",
      "No. Observations:                2153   AIC:                             3469.\n",
      "Df Residuals:                    2149   BIC:                             3492.\n",
      "Df Model:                           3                                         \n",
      "Covariance Type:            nonrobust                                         \n",
      "==============================================================================\n",
      "                 coef    std err          t      P>|t|      [0.025      0.975]\n",
      "------------------------------------------------------------------------------\n",
      "Intercept      1.6322      0.151     10.808      0.000       1.336       1.928\n",
      "rfam_trust     0.1056      0.036      2.972      0.003       0.036       0.175\n",
      "rhealth        0.2705      0.014     19.086      0.000       0.243       0.298\n",
      "age            0.0046      0.001      5.576      0.000       0.003       0.006\n",
      "==============================================================================\n",
      "Omnibus:                       68.757   Durbin-Watson:                   1.792\n",
      "Prob(Omnibus):                  0.000   Jarque-Bera (JB):              108.020\n",
      "Skew:                          -0.293   Prob(JB):                     3.50e-24\n",
      "Kurtosis:                       3.928   Cond. No.                         618.\n",
      "==============================================================================\n",
      "\n",
      "Notes:\n",
      "[1] Standard Errors assume that the covariance matrix of the errors is correctly specified.\n"
     ]
    }
   ],
   "source": [
    "lm1 = smf.ols(formula = 'rhappiness ~ rfam_trust + rhealth + age', data = d, subset = (d['V2']==156) ).fit()\n",
    "print (lm1.summary())"
   ]
  },
  {
   "cell_type": "markdown",
   "id": "c6ca82b6",
   "metadata": {},
   "source": [
    "## This is a multiple regression predicting happiness of people as a degree of health status, trust on family, and age.\n",
    "\n",
    "## Results show that these things matter, in predictable ways as I thnik, more trust on family and better healthy status tend to feel more happy in China, but the small factor of age hardly affects the happiness.\n",
    "\n",
    "## This result is very much in line with the traditional Chinese values of good health and family harmony, but I think these expectations should apply to all people because they are some of the most basic criteria in life."
   ]
  },
  {
   "cell_type": "code",
   "execution_count": null,
   "id": "25b72cc5",
   "metadata": {},
   "outputs": [],
   "source": []
  },
  {
   "cell_type": "markdown",
   "id": "970cf0f1",
   "metadata": {},
   "source": [
    "# 4. Now add another independent variable to that model in Question 3, specifically a set of dummy variables. Tell me why you added that new set of variables and what effect you expected them to have. Did they have an effect? Interpret that new model. "
   ]
  },
  {
   "cell_type": "markdown",
   "id": "f54bb25d",
   "metadata": {},
   "source": [
    "## Next I wonder if people's happiness increases with greater freedom of choice. But I think too much freedom of choice will lead to a decrease in happiness, and I speculate that happiness will rise and then fall as the freedom of choice increases\n",
    "\n",
    "## The variable 'freedom' represents how much freedom of choice and control is represented, ranging from 1 to 10, with larger values representing more freedom of choice."
   ]
  },
  {
   "cell_type": "code",
   "execution_count": 40,
   "id": "453ce81e",
   "metadata": {},
   "outputs": [
    {
     "data": {
      "text/html": [
       "<div>\n",
       "<style scoped>\n",
       "    .dataframe tbody tr th:only-of-type {\n",
       "        vertical-align: middle;\n",
       "    }\n",
       "\n",
       "    .dataframe tbody tr th {\n",
       "        vertical-align: top;\n",
       "    }\n",
       "\n",
       "    .dataframe thead th {\n",
       "        text-align: right;\n",
       "    }\n",
       "</style>\n",
       "<table border=\"1\" class=\"dataframe\">\n",
       "  <thead>\n",
       "    <tr style=\"text-align: right;\">\n",
       "      <th>freedom</th>\n",
       "      <th>1.0</th>\n",
       "      <th>2.0</th>\n",
       "      <th>3.0</th>\n",
       "      <th>4.0</th>\n",
       "      <th>5.0</th>\n",
       "      <th>6.0</th>\n",
       "      <th>7.0</th>\n",
       "      <th>8.0</th>\n",
       "      <th>9.0</th>\n",
       "      <th>10.0</th>\n",
       "    </tr>\n",
       "    <tr>\n",
       "      <th>rhappiness</th>\n",
       "      <th></th>\n",
       "      <th></th>\n",
       "      <th></th>\n",
       "      <th></th>\n",
       "      <th></th>\n",
       "      <th></th>\n",
       "      <th></th>\n",
       "      <th></th>\n",
       "      <th></th>\n",
       "      <th></th>\n",
       "    </tr>\n",
       "  </thead>\n",
       "  <tbody>\n",
       "    <tr>\n",
       "      <th>1.0</th>\n",
       "      <td>252</td>\n",
       "      <td>121</td>\n",
       "      <td>168</td>\n",
       "      <td>153</td>\n",
       "      <td>283</td>\n",
       "      <td>222</td>\n",
       "      <td>240</td>\n",
       "      <td>221</td>\n",
       "      <td>122</td>\n",
       "      <td>258</td>\n",
       "    </tr>\n",
       "    <tr>\n",
       "      <th>2.0</th>\n",
       "      <td>416</td>\n",
       "      <td>322</td>\n",
       "      <td>641</td>\n",
       "      <td>778</td>\n",
       "      <td>1598</td>\n",
       "      <td>1161</td>\n",
       "      <td>1240</td>\n",
       "      <td>1209</td>\n",
       "      <td>610</td>\n",
       "      <td>1123</td>\n",
       "    </tr>\n",
       "    <tr>\n",
       "      <th>3.0</th>\n",
       "      <td>552</td>\n",
       "      <td>416</td>\n",
       "      <td>952</td>\n",
       "      <td>1495</td>\n",
       "      <td>5045</td>\n",
       "      <td>5075</td>\n",
       "      <td>7074</td>\n",
       "      <td>7694</td>\n",
       "      <td>3706</td>\n",
       "      <td>5419</td>\n",
       "    </tr>\n",
       "    <tr>\n",
       "      <th>4.0</th>\n",
       "      <td>375</td>\n",
       "      <td>187</td>\n",
       "      <td>377</td>\n",
       "      <td>517</td>\n",
       "      <td>2017</td>\n",
       "      <td>2213</td>\n",
       "      <td>3518</td>\n",
       "      <td>4891</td>\n",
       "      <td>3212</td>\n",
       "      <td>6268</td>\n",
       "    </tr>\n",
       "  </tbody>\n",
       "</table>\n",
       "</div>"
      ],
      "text/plain": [
       "freedom     1.0   2.0   3.0   4.0   5.0   6.0   7.0   8.0   9.0   10.0\n",
       "rhappiness                                                            \n",
       "1.0          252   121   168   153   283   222   240   221   122   258\n",
       "2.0          416   322   641   778  1598  1161  1240  1209   610  1123\n",
       "3.0          552   416   952  1495  5045  5075  7074  7694  3706  5419\n",
       "4.0          375   187   377   517  2017  2213  3518  4891  3212  6268"
      ]
     },
     "execution_count": 40,
     "metadata": {},
     "output_type": "execute_result"
    }
   ],
   "source": [
    "pd.crosstab(d.rhappiness,d.freedom)"
   ]
  },
  {
   "cell_type": "code",
   "execution_count": 41,
   "id": "63db1507",
   "metadata": {},
   "outputs": [
    {
     "data": {
      "text/plain": [
       "1300"
      ]
     },
     "execution_count": 41,
     "metadata": {},
     "output_type": "execute_result"
    }
   ],
   "source": [
    "# Check the number of missing value #\n",
    "d.freedom.isnull().sum()"
   ]
  },
  {
   "cell_type": "code",
   "execution_count": 44,
   "id": "016a95fd",
   "metadata": {},
   "outputs": [],
   "source": [
    "dd = d.dropna(subset = [\"freedom\"])"
   ]
  },
  {
   "cell_type": "markdown",
   "id": "c2bf6610",
   "metadata": {},
   "source": [
    "## The variable 'freedom' has 10 (ordered) categories, and I made dummies of freedom_1 through freedom_10"
   ]
  },
  {
   "cell_type": "code",
   "execution_count": 45,
   "id": "bb3ee320",
   "metadata": {},
   "outputs": [
    {
     "data": {
      "text/plain": [
       "Index(['rhappiness', 'rfam_trust', 'rhealth', 'age', 'V2', 'freedom_1',\n",
       "       'freedom_2', 'freedom_3', 'freedom_4', 'freedom_5', 'freedom_6',\n",
       "       'freedom_7', 'freedom_8', 'freedom_9', 'freedom_10'],\n",
       "      dtype='object')"
      ]
     },
     "execution_count": 45,
     "metadata": {},
     "output_type": "execute_result"
    }
   ],
   "source": [
    "ddsub = pd.concat([dd.rhappiness, dd.rfam_trust, dd.rhealth, dd.age, dd.V2,\n",
    "                   pd.get_dummies(dd.freedom.astype(int), prefix='freedom')],  axis = 1 )\n",
    "ddsub.columns"
   ]
  },
  {
   "cell_type": "code",
   "execution_count": 46,
   "id": "e258af7f",
   "metadata": {},
   "outputs": [
    {
     "name": "stdout",
     "output_type": "stream",
     "text": [
      "                            OLS Regression Results                            \n",
      "==============================================================================\n",
      "Dep. Variable:             rhappiness   R-squared:                       0.212\n",
      "Model:                            OLS   Adj. R-squared:                  0.207\n",
      "Method:                 Least Squares   F-statistic:                     46.66\n",
      "Date:                Thu, 16 Jun 2022   Prob (F-statistic):           9.11e-99\n",
      "Time:                        12:18:35   Log-Likelihood:                -1613.2\n",
      "No. Observations:                2098   AIC:                             3252.\n",
      "Df Residuals:                    2085   BIC:                             3326.\n",
      "Df Model:                          12                                         \n",
      "Covariance Type:            nonrobust                                         \n",
      "==============================================================================\n",
      "                 coef    std err          t      P>|t|      [0.025      0.975]\n",
      "------------------------------------------------------------------------------\n",
      "Intercept      1.6141      0.137     11.778      0.000       1.345       1.883\n",
      "rfam_trust     0.0651      0.035      1.855      0.064      -0.004       0.134\n",
      "rhealth        0.2374      0.014     16.562      0.000       0.209       0.265\n",
      "age            0.0038      0.001      4.757      0.000       0.002       0.005\n",
      "freedom_1     -0.2451      0.092     -2.668      0.008      -0.425      -0.065\n",
      "freedom_2     -0.1826      0.087     -2.088      0.037      -0.354      -0.011\n",
      "freedom_3      0.0178      0.067      0.267      0.789      -0.113       0.148\n",
      "freedom_4      0.0296      0.055      0.534      0.593      -0.079       0.138\n",
      "freedom_5      0.1742      0.040      4.390      0.000       0.096       0.252\n",
      "freedom_6      0.2279      0.036      6.351      0.000       0.158       0.298\n",
      "freedom_7      0.3100      0.033      9.445      0.000       0.246       0.374\n",
      "freedom_8      0.3445      0.030     11.542      0.000       0.286       0.403\n",
      "freedom_9      0.4479      0.039     11.385      0.000       0.371       0.525\n",
      "freedom_10     0.4898      0.038     12.838      0.000       0.415       0.565\n",
      "==============================================================================\n",
      "Omnibus:                       49.936   Durbin-Watson:                   1.794\n",
      "Prob(Omnibus):                  0.000   Jarque-Bera (JB):               89.893\n",
      "Skew:                          -0.174   Prob(JB):                     3.02e-20\n",
      "Kurtosis:                       3.953   Cond. No.                     5.73e+17\n",
      "==============================================================================\n",
      "\n",
      "Notes:\n",
      "[1] Standard Errors assume that the covariance matrix of the errors is correctly specified.\n",
      "[2] The smallest eigenvalue is 1.37e-29. This might indicate that there are\n",
      "strong multicollinearity problems or that the design matrix is singular.\n"
     ]
    }
   ],
   "source": [
    "lm2 = smf.ols(formula = 'rhappiness ~ rfam_trust + rhealth + age  + freedom_1 + freedom_2 + freedom_3 \\\n",
    "                        + freedom_4 + freedom_5 + freedom_6 + freedom_7 + freedom_8 + freedom_9 + freedom_10',\n",
    "                        data = ddsub, subset = (ddsub['V2']==156) ).fit()\n",
    "print (lm2.summary())"
   ]
  },
  {
   "cell_type": "markdown",
   "id": "4760b049",
   "metadata": {},
   "source": [
    "## The results show that as the freedom of choice category rises, higher scores respond in people's happiness. However, for freedom levels of 3 and 4, the p-value is much greater than 0.05, which is not statistically significant for the happiness.\n",
    "\n",
    "## This result still surprises me, the more freedom of choice can make people feel happier. It is also possible that my understanding of this variable is biased, perhaps not just the degree of freedom alone but one that includes both freedom and control. In this case it is possible that a higher level means that people are completely free to control their choices and therefore have a higher level of happiness."
   ]
  }
 ],
 "metadata": {
  "kernelspec": {
   "display_name": "Python 3 (ipykernel)",
   "language": "python",
   "name": "python3"
  },
  "language_info": {
   "codemirror_mode": {
    "name": "ipython",
    "version": 3
   },
   "file_extension": ".py",
   "mimetype": "text/x-python",
   "name": "python",
   "nbconvert_exporter": "python",
   "pygments_lexer": "ipython3",
   "version": "3.9.7"
  }
 },
 "nbformat": 4,
 "nbformat_minor": 5
}

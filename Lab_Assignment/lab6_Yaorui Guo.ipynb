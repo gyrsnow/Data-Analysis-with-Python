{
 "cells": [
  {
   "cell_type": "markdown",
   "id": "4863aa9c",
   "metadata": {},
   "source": [
    "# Yaorui Guo(yg2815)\n",
    "# Lab #6"
   ]
  },
  {
   "cell_type": "code",
   "execution_count": 1,
   "id": "c126e929",
   "metadata": {},
   "outputs": [],
   "source": [
    "#pip install linearmodels"
   ]
  },
  {
   "cell_type": "code",
   "execution_count": 49,
   "id": "8045e12f",
   "metadata": {},
   "outputs": [],
   "source": [
    "from __future__ import division\n",
    "import pandas as pd\n",
    "import numpy as np\n",
    "import statsmodels.api as sm\n",
    "import statsmodels.formula.api as smf\n",
    "import os\n",
    "import matplotlib.pyplot as plt\n",
    "import linearmodels as lm\n",
    "import seaborn as sns\n",
    "\n",
    "from linearmodels import PanelOLS\n",
    "from linearmodels import RandomEffects\n",
    "from linearmodels import FirstDifferenceOLS"
   ]
  },
  {
   "cell_type": "code",
   "execution_count": 98,
   "id": "a793c072",
   "metadata": {},
   "outputs": [
    {
     "data": {
      "text/html": [
       "<div>\n",
       "<style scoped>\n",
       "    .dataframe tbody tr th:only-of-type {\n",
       "        vertical-align: middle;\n",
       "    }\n",
       "\n",
       "    .dataframe tbody tr th {\n",
       "        vertical-align: top;\n",
       "    }\n",
       "\n",
       "    .dataframe thead th {\n",
       "        text-align: right;\n",
       "    }\n",
       "</style>\n",
       "<table border=\"1\" class=\"dataframe\">\n",
       "  <thead>\n",
       "    <tr style=\"text-align: right;\">\n",
       "      <th></th>\n",
       "      <th>idnum</th>\n",
       "      <th>panelwave</th>\n",
       "      <th>ballot</th>\n",
       "      <th>form</th>\n",
       "      <th>formwt</th>\n",
       "      <th>oversamp</th>\n",
       "      <th>sample</th>\n",
       "      <th>panstat_2</th>\n",
       "      <th>panstat_3</th>\n",
       "      <th>mar1</th>\n",
       "      <th>...</th>\n",
       "      <th>wtpan12</th>\n",
       "      <th>wtpan123</th>\n",
       "      <th>wtpannr12</th>\n",
       "      <th>wtpannr123</th>\n",
       "      <th>xmarsex</th>\n",
       "      <th>xmovie</th>\n",
       "      <th>xnorcsiz</th>\n",
       "      <th>year</th>\n",
       "      <th>yearval</th>\n",
       "      <th>zodiac</th>\n",
       "    </tr>\n",
       "  </thead>\n",
       "  <tbody>\n",
       "    <tr>\n",
       "      <th>0</th>\n",
       "      <td>9</td>\n",
       "      <td>1</td>\n",
       "      <td>3</td>\n",
       "      <td>2</td>\n",
       "      <td>1</td>\n",
       "      <td>1</td>\n",
       "      <td>9</td>\n",
       "      <td>1</td>\n",
       "      <td>1</td>\n",
       "      <td>5.0</td>\n",
       "      <td>...</td>\n",
       "      <td>0.414689</td>\n",
       "      <td>0.487828</td>\n",
       "      <td>0.435503</td>\n",
       "      <td>0.470575</td>\n",
       "      <td>1.0</td>\n",
       "      <td>2.0</td>\n",
       "      <td>1.0</td>\n",
       "      <td>2006.0</td>\n",
       "      <td>NaN</td>\n",
       "      <td>9.0</td>\n",
       "    </tr>\n",
       "    <tr>\n",
       "      <th>1</th>\n",
       "      <td>9</td>\n",
       "      <td>2</td>\n",
       "      <td>3</td>\n",
       "      <td>2</td>\n",
       "      <td>1</td>\n",
       "      <td>1</td>\n",
       "      <td>9</td>\n",
       "      <td>1</td>\n",
       "      <td>1</td>\n",
       "      <td>5.0</td>\n",
       "      <td>...</td>\n",
       "      <td>0.414689</td>\n",
       "      <td>0.487828</td>\n",
       "      <td>0.435503</td>\n",
       "      <td>0.470575</td>\n",
       "      <td>1.0</td>\n",
       "      <td>1.0</td>\n",
       "      <td>1.0</td>\n",
       "      <td>2008.0</td>\n",
       "      <td>NaN</td>\n",
       "      <td>9.0</td>\n",
       "    </tr>\n",
       "    <tr>\n",
       "      <th>2</th>\n",
       "      <td>9</td>\n",
       "      <td>3</td>\n",
       "      <td>3</td>\n",
       "      <td>2</td>\n",
       "      <td>1</td>\n",
       "      <td>1</td>\n",
       "      <td>9</td>\n",
       "      <td>1</td>\n",
       "      <td>1</td>\n",
       "      <td>1.0</td>\n",
       "      <td>...</td>\n",
       "      <td>0.414689</td>\n",
       "      <td>0.487828</td>\n",
       "      <td>0.435503</td>\n",
       "      <td>0.470575</td>\n",
       "      <td>1.0</td>\n",
       "      <td>1.0</td>\n",
       "      <td>1.0</td>\n",
       "      <td>2010.0</td>\n",
       "      <td>NaN</td>\n",
       "      <td>9.0</td>\n",
       "    </tr>\n",
       "    <tr>\n",
       "      <th>3</th>\n",
       "      <td>10</td>\n",
       "      <td>1</td>\n",
       "      <td>1</td>\n",
       "      <td>1</td>\n",
       "      <td>1</td>\n",
       "      <td>1</td>\n",
       "      <td>9</td>\n",
       "      <td>1</td>\n",
       "      <td>1</td>\n",
       "      <td>5.0</td>\n",
       "      <td>...</td>\n",
       "      <td>0.829377</td>\n",
       "      <td>0.858741</td>\n",
       "      <td>0.766632</td>\n",
       "      <td>0.828371</td>\n",
       "      <td>1.0</td>\n",
       "      <td>NaN</td>\n",
       "      <td>1.0</td>\n",
       "      <td>2006.0</td>\n",
       "      <td>NaN</td>\n",
       "      <td>3.0</td>\n",
       "    </tr>\n",
       "    <tr>\n",
       "      <th>4</th>\n",
       "      <td>10</td>\n",
       "      <td>2</td>\n",
       "      <td>1</td>\n",
       "      <td>1</td>\n",
       "      <td>1</td>\n",
       "      <td>1</td>\n",
       "      <td>9</td>\n",
       "      <td>1</td>\n",
       "      <td>1</td>\n",
       "      <td>5.0</td>\n",
       "      <td>...</td>\n",
       "      <td>0.829377</td>\n",
       "      <td>0.858741</td>\n",
       "      <td>0.766632</td>\n",
       "      <td>0.828371</td>\n",
       "      <td>1.0</td>\n",
       "      <td>NaN</td>\n",
       "      <td>1.0</td>\n",
       "      <td>2008.0</td>\n",
       "      <td>NaN</td>\n",
       "      <td>3.0</td>\n",
       "    </tr>\n",
       "  </tbody>\n",
       "</table>\n",
       "<p>5 rows × 628 columns</p>\n",
       "</div>"
      ],
      "text/plain": [
       "   idnum  panelwave  ballot  form  formwt  oversamp  sample  panstat_2  \\\n",
       "0      9          1       3     2       1         1       9          1   \n",
       "1      9          2       3     2       1         1       9          1   \n",
       "2      9          3       3     2       1         1       9          1   \n",
       "3     10          1       1     1       1         1       9          1   \n",
       "4     10          2       1     1       1         1       9          1   \n",
       "\n",
       "   panstat_3  mar1  ...   wtpan12  wtpan123  wtpannr12  wtpannr123  xmarsex  \\\n",
       "0          1   5.0  ...  0.414689  0.487828   0.435503    0.470575      1.0   \n",
       "1          1   5.0  ...  0.414689  0.487828   0.435503    0.470575      1.0   \n",
       "2          1   1.0  ...  0.414689  0.487828   0.435503    0.470575      1.0   \n",
       "3          1   5.0  ...  0.829377  0.858741   0.766632    0.828371      1.0   \n",
       "4          1   5.0  ...  0.829377  0.858741   0.766632    0.828371      1.0   \n",
       "\n",
       "   xmovie  xnorcsiz    year  yearval  zodiac  \n",
       "0     2.0       1.0  2006.0      NaN     9.0  \n",
       "1     1.0       1.0  2008.0      NaN     9.0  \n",
       "2     1.0       1.0  2010.0      NaN     9.0  \n",
       "3     NaN       1.0  2006.0      NaN     3.0  \n",
       "4     NaN       1.0  2008.0      NaN     3.0  \n",
       "\n",
       "[5 rows x 628 columns]"
      ]
     },
     "execution_count": 98,
     "metadata": {},
     "output_type": "execute_result"
    }
   ],
   "source": [
    "os.chdir('/Users/gyr/Desktop/5019_python/dataset')\n",
    "g = pd.read_csv(\"panel-for-R.csv\")\n",
    "g.head()"
   ]
  },
  {
   "cell_type": "markdown",
   "id": "3bc4f28c",
   "metadata": {},
   "source": [
    "## The dependent variable I chose is 'refefam', which represents an opinion \"It is much better for everyone involved if the man is the achiever outside the home and the woman takes care of the home and family\", ranging from 1 to 4,  represents Strongly agree to Strongly disagree. to make the interpretation easier, I reverse code it. "
   ]
  },
  {
   "cell_type": "code",
   "execution_count": 92,
   "id": "06611724",
   "metadata": {},
   "outputs": [],
   "source": [
    "## reverse code variable refam- higher variable means people have Strongly agree opinion on this statement##\n",
    "# g.fefam.value_counts()\n",
    "g['rfefam'] = 5 - g.fefam"
   ]
  },
  {
   "cell_type": "markdown",
   "id": "bdc4bcc0",
   "metadata": {},
   "source": [
    "## I recoded the  variable 'marital' so that married represents a marriage status of 1 and all other statuses are treated as non-married"
   ]
  },
  {
   "cell_type": "code",
   "execution_count": 94,
   "id": "8f52fe3d",
   "metadata": {},
   "outputs": [],
   "source": [
    "conditions = [\n",
    "                (g['marital'] == 1),\n",
    "                (g['marital'] != 1)]\n",
    "choices = [1,0]\n",
    "g['married'] = np.select(conditions, choices, default=np.nan)"
   ]
  },
  {
   "cell_type": "code",
   "execution_count": 95,
   "id": "a47d8637",
   "metadata": {},
   "outputs": [
    {
     "data": {
      "text/plain": [
       "0.0    3647\n",
       "1.0    2353\n",
       "Name: married, dtype: int64"
      ]
     },
     "execution_count": 95,
     "metadata": {},
     "output_type": "execute_result"
    }
   ],
   "source": [
    "g.married.value_counts()"
   ]
  },
  {
   "cell_type": "markdown",
   "id": "71962c84",
   "metadata": {},
   "source": [
    "# 1. Run a naive (\"pooled\") OLS regression on the panel data. Tell we how you expect your Xs to affect your Y and why. Interpret your results."
   ]
  },
  {
   "cell_type": "markdown",
   "id": "e25f6c74",
   "metadata": {},
   "source": [
    "## I wonder if people who are married are more likely to agree that men are responsible for the home outside the home and women are responsible for taking care of the home\n",
    "\n",
    "## I expect that before marriage people might have been more in denial about this statement, because everyone wants to be able to do everything and be on their own. After marriage, the burden of life gives everyone a clearer goal to help each other and understand each other in order to better maintain the marriage relationship. So there is a greater tendency to the traditional division of labor in the family, with the wage-earning for the men and unpaid maintenance of household and children for the women."
   ]
  },
  {
   "cell_type": "code",
   "execution_count": 96,
   "id": "8a8645a0",
   "metadata": {},
   "outputs": [
    {
     "name": "stdout",
     "output_type": "stream",
     "text": [
      "                            OLS Regression Results                            \n",
      "==============================================================================\n",
      "Dep. Variable:                 rfefam   R-squared:                       0.006\n",
      "Model:                            OLS   Adj. R-squared:                  0.006\n",
      "Method:                 Least Squares   F-statistic:                     18.34\n",
      "Date:                Mon, 27 Jun 2022   Prob (F-statistic):           1.90e-05\n",
      "Time:                        16:54:16   Log-Likelihood:                -3899.4\n",
      "No. Observations:                3118   AIC:                             7803.\n",
      "Df Residuals:                    3116   BIC:                             7815.\n",
      "Df Model:                           1                                         \n",
      "Covariance Type:            nonrobust                                         \n",
      "==============================================================================\n",
      "                 coef    std err          t      P>|t|      [0.025      0.975]\n",
      "------------------------------------------------------------------------------\n",
      "Intercept      2.1791      0.021    101.387      0.000       2.137       2.221\n",
      "married        0.1297      0.030      4.282      0.000       0.070       0.189\n",
      "==============================================================================\n",
      "Omnibus:                       99.756   Durbin-Watson:                   1.356\n",
      "Prob(Omnibus):                  0.000   Jarque-Bera (JB):               76.411\n",
      "Skew:                           0.294   Prob(JB):                     2.56e-17\n",
      "Kurtosis:                       2.507   Cond. No.                         2.63\n",
      "==============================================================================\n",
      "\n",
      "Notes:\n",
      "[1] Standard Errors assume that the covariance matrix of the errors is correctly specified.\n"
     ]
    }
   ],
   "source": [
    "lm_ols = smf.ols(formula = 'rfefam ~ married ', data = g).fit()\n",
    "print (lm_ols.summary())"
   ]
  },
  {
   "cell_type": "markdown",
   "id": "a6771468",
   "metadata": {},
   "source": [
    "## From simple OLS result,  a married person scores 0.13 ponits higher on supporting the statement, meaning Married people tend to support this statement that men are responsible for the home outside the home and women are responsible for taking care of the home."
   ]
  },
  {
   "cell_type": "markdown",
   "id": "647b155e",
   "metadata": {},
   "source": [
    "# 2. Run a first differences regression on the same model in Question 1. Interpret your results. Do you draw a different conclusion than in Question 1? Explain."
   ]
  },
  {
   "cell_type": "code",
   "execution_count": 97,
   "id": "04de0b5d",
   "metadata": {},
   "outputs": [
    {
     "name": "stdout",
     "output_type": "stream",
     "text": [
      "                     FirstDifferenceOLS Estimation Summary                      \n",
      "================================================================================\n",
      "Dep. Variable:                 rfefam   R-squared:                     2.033e-05\n",
      "Estimator:         FirstDifferenceOLS   R-squared (Between):             -0.0050\n",
      "No. Observations:                1804   R-squared (Within):              -0.0001\n",
      "Date:                Mon, Jun 27 2022   R-squared (Overall):             -0.0051\n",
      "Time:                        16:54:24   Log-likelihood                   -2214.3\n",
      "Cov. Estimator:             Clustered                                           \n",
      "                                        F-statistic:                      0.0366\n",
      "Entities:                        1309   P-value                           0.8482\n",
      "Avg Obs:                       2.3820   Distribution:                  F(1,1803)\n",
      "Min Obs:                       1.0000                                           \n",
      "Max Obs:                       3.0000   F-statistic (robust):             0.0308\n",
      "                                        P-value                           0.8608\n",
      "Time periods:                       3   Distribution:                  F(1,1803)\n",
      "Avg Obs:                       1039.3                                           \n",
      "Min Obs:                       830.00                                           \n",
      "Max Obs:                       1293.0                                           \n",
      "                                                                                \n",
      "                             Parameter Estimates                              \n",
      "==============================================================================\n",
      "            Parameter  Std. Err.     T-stat    P-value    Lower CI    Upper CI\n",
      "------------------------------------------------------------------------------\n",
      "married       -0.0125     0.0713    -0.1754     0.8608     -0.1523      0.1273\n",
      "==============================================================================\n"
     ]
    },
    {
     "name": "stderr",
     "output_type": "stream",
     "text": [
      "/Users/gyr/opt/anaconda3/lib/python3.9/site-packages/linearmodels/panel/model.py:2273: MissingValueWarning: \n",
      "Inputs contain missing values. Dropping rows with missing observations.\n",
      "  super().__init__(dependent, exog, weights=weights, check_rank=check_rank)\n"
     ]
    }
   ],
   "source": [
    "g = g.set_index(['idnum', 'panelwave'])\n",
    "lm_fd = FirstDifferenceOLS.from_formula(formula = 'rfefam ~ married ', data = g)\n",
    "res_fd = lm_fd.fit(cov_type='clustered', cluster_entity=True)\n",
    "print(res_fd)"
   ]
  },
  {
   "cell_type": "markdown",
   "id": "9afa8d7a",
   "metadata": {},
   "source": [
    "## From the first differences regression result, we can see there is no association between the change in a person's marital status from non-married to married and the attitude to this statement. The t-statistic is not statistical significant. This result is completely different from the conclusion in Q1. We cannot say that marriage makes one more inclined to support this statement because the relationship between these two variables is not statistically significant.\n",
    "\n"
   ]
  }
 ],
 "metadata": {
  "kernelspec": {
   "display_name": "Python 3 (ipykernel)",
   "language": "python",
   "name": "python3"
  },
  "language_info": {
   "codemirror_mode": {
    "name": "ipython",
    "version": 3
   },
   "file_extension": ".py",
   "mimetype": "text/x-python",
   "name": "python",
   "nbconvert_exporter": "python",
   "pygments_lexer": "ipython3",
   "version": "3.9.7"
  },
  "toc": {
   "base_numbering": 1,
   "nav_menu": {},
   "number_sections": false,
   "sideBar": true,
   "skip_h1_title": false,
   "title_cell": "Table of Contents",
   "title_sidebar": "Contents",
   "toc_cell": true,
   "toc_position": {},
   "toc_section_display": true,
   "toc_window_display": false
  }
 },
 "nbformat": 4,
 "nbformat_minor": 5
}

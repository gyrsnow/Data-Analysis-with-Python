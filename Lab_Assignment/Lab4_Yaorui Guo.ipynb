{
 "cells": [
  {
   "cell_type": "markdown",
   "id": "a6ea176f",
   "metadata": {},
   "source": [
    "# Yaorui Guo (yg2815)"
   ]
  },
  {
   "cell_type": "markdown",
   "id": "1150f639",
   "metadata": {},
   "source": [
    "# Lab #4"
   ]
  },
  {
   "cell_type": "code",
   "execution_count": 1,
   "id": "f852c9f6",
   "metadata": {},
   "outputs": [],
   "source": [
    "# Some preliminary set up code:\n",
    "from __future__ import division\n",
    "import pandas as pd\n",
    "import numpy as np\n",
    "import statsmodels.api as sm\n",
    "import statsmodels.formula.api as smf\n",
    "import os\n",
    "import matplotlib.pyplot as plt\n",
    "import seaborn as sns\n",
    "\n",
    "import warnings\n",
    "warnings.filterwarnings(\"ignore\")"
   ]
  },
  {
   "cell_type": "code",
   "execution_count": 36,
   "id": "d262649a",
   "metadata": {},
   "outputs": [
    {
     "data": {
      "text/html": [
       "<div>\n",
       "<style scoped>\n",
       "    .dataframe tbody tr th:only-of-type {\n",
       "        vertical-align: middle;\n",
       "    }\n",
       "\n",
       "    .dataframe tbody tr th {\n",
       "        vertical-align: top;\n",
       "    }\n",
       "\n",
       "    .dataframe thead th {\n",
       "        text-align: right;\n",
       "    }\n",
       "</style>\n",
       "<table border=\"1\" class=\"dataframe\">\n",
       "  <thead>\n",
       "    <tr style=\"text-align: right;\">\n",
       "      <th></th>\n",
       "      <th>V1</th>\n",
       "      <th>V2</th>\n",
       "      <th>V2A</th>\n",
       "      <th>V3</th>\n",
       "      <th>V4</th>\n",
       "      <th>V5</th>\n",
       "      <th>V6</th>\n",
       "      <th>V7</th>\n",
       "      <th>V8</th>\n",
       "      <th>V9</th>\n",
       "      <th>...</th>\n",
       "      <th>V224_ESMA</th>\n",
       "      <th>V228_2</th>\n",
       "      <th>V243_AU</th>\n",
       "      <th>V244_AU</th>\n",
       "      <th>V248_CS</th>\n",
       "      <th>V253_CS</th>\n",
       "      <th>V256B</th>\n",
       "      <th>V256C</th>\n",
       "      <th>sacsecval</th>\n",
       "      <th>secvalwgt</th>\n",
       "    </tr>\n",
       "  </thead>\n",
       "  <tbody>\n",
       "    <tr>\n",
       "      <th>0</th>\n",
       "      <td>6</td>\n",
       "      <td>12</td>\n",
       "      <td>12</td>\n",
       "      <td>1.0</td>\n",
       "      <td>1.0</td>\n",
       "      <td>1.0</td>\n",
       "      <td>1.0</td>\n",
       "      <td>NaN</td>\n",
       "      <td>1.0</td>\n",
       "      <td>1.0</td>\n",
       "      <td>...</td>\n",
       "      <td>NaN</td>\n",
       "      <td>NaN</td>\n",
       "      <td>NaN</td>\n",
       "      <td>NaN</td>\n",
       "      <td>NaN</td>\n",
       "      <td>NaN</td>\n",
       "      <td>NaN</td>\n",
       "      <td>NaN</td>\n",
       "      <td>0.300476</td>\n",
       "      <td>1.0</td>\n",
       "    </tr>\n",
       "    <tr>\n",
       "      <th>1</th>\n",
       "      <td>6</td>\n",
       "      <td>12</td>\n",
       "      <td>12</td>\n",
       "      <td>2.0</td>\n",
       "      <td>1.0</td>\n",
       "      <td>2.0</td>\n",
       "      <td>3.0</td>\n",
       "      <td>4.0</td>\n",
       "      <td>2.0</td>\n",
       "      <td>2.0</td>\n",
       "      <td>...</td>\n",
       "      <td>NaN</td>\n",
       "      <td>NaN</td>\n",
       "      <td>NaN</td>\n",
       "      <td>NaN</td>\n",
       "      <td>NaN</td>\n",
       "      <td>NaN</td>\n",
       "      <td>NaN</td>\n",
       "      <td>NaN</td>\n",
       "      <td>0.301905</td>\n",
       "      <td>1.0</td>\n",
       "    </tr>\n",
       "    <tr>\n",
       "      <th>2</th>\n",
       "      <td>6</td>\n",
       "      <td>12</td>\n",
       "      <td>12</td>\n",
       "      <td>3.0</td>\n",
       "      <td>1.0</td>\n",
       "      <td>3.0</td>\n",
       "      <td>2.0</td>\n",
       "      <td>4.0</td>\n",
       "      <td>2.0</td>\n",
       "      <td>1.0</td>\n",
       "      <td>...</td>\n",
       "      <td>NaN</td>\n",
       "      <td>NaN</td>\n",
       "      <td>NaN</td>\n",
       "      <td>NaN</td>\n",
       "      <td>NaN</td>\n",
       "      <td>NaN</td>\n",
       "      <td>NaN</td>\n",
       "      <td>NaN</td>\n",
       "      <td>0.386071</td>\n",
       "      <td>1.0</td>\n",
       "    </tr>\n",
       "    <tr>\n",
       "      <th>3</th>\n",
       "      <td>6</td>\n",
       "      <td>12</td>\n",
       "      <td>12</td>\n",
       "      <td>4.0</td>\n",
       "      <td>1.0</td>\n",
       "      <td>1.0</td>\n",
       "      <td>3.0</td>\n",
       "      <td>4.0</td>\n",
       "      <td>3.0</td>\n",
       "      <td>1.0</td>\n",
       "      <td>...</td>\n",
       "      <td>NaN</td>\n",
       "      <td>NaN</td>\n",
       "      <td>NaN</td>\n",
       "      <td>NaN</td>\n",
       "      <td>NaN</td>\n",
       "      <td>NaN</td>\n",
       "      <td>NaN</td>\n",
       "      <td>NaN</td>\n",
       "      <td>0.344405</td>\n",
       "      <td>1.0</td>\n",
       "    </tr>\n",
       "    <tr>\n",
       "      <th>4</th>\n",
       "      <td>6</td>\n",
       "      <td>12</td>\n",
       "      <td>12</td>\n",
       "      <td>5.0</td>\n",
       "      <td>1.0</td>\n",
       "      <td>1.0</td>\n",
       "      <td>1.0</td>\n",
       "      <td>2.0</td>\n",
       "      <td>1.0</td>\n",
       "      <td>1.0</td>\n",
       "      <td>...</td>\n",
       "      <td>NaN</td>\n",
       "      <td>NaN</td>\n",
       "      <td>NaN</td>\n",
       "      <td>NaN</td>\n",
       "      <td>NaN</td>\n",
       "      <td>NaN</td>\n",
       "      <td>NaN</td>\n",
       "      <td>NaN</td>\n",
       "      <td>0.304167</td>\n",
       "      <td>1.0</td>\n",
       "    </tr>\n",
       "  </tbody>\n",
       "</table>\n",
       "<p>5 rows × 381 columns</p>\n",
       "</div>"
      ],
      "text/plain": [
       "   V1  V2  V2A   V3   V4   V5   V6   V7   V8   V9  ...  V224_ESMA  V228_2  \\\n",
       "0   6  12   12  1.0  1.0  1.0  1.0  NaN  1.0  1.0  ...        NaN     NaN   \n",
       "1   6  12   12  2.0  1.0  2.0  3.0  4.0  2.0  2.0  ...        NaN     NaN   \n",
       "2   6  12   12  3.0  1.0  3.0  2.0  4.0  2.0  1.0  ...        NaN     NaN   \n",
       "3   6  12   12  4.0  1.0  1.0  3.0  4.0  3.0  1.0  ...        NaN     NaN   \n",
       "4   6  12   12  5.0  1.0  1.0  1.0  2.0  1.0  1.0  ...        NaN     NaN   \n",
       "\n",
       "   V243_AU  V244_AU  V248_CS  V253_CS  V256B  V256C  sacsecval  secvalwgt  \n",
       "0      NaN      NaN      NaN      NaN    NaN    NaN   0.300476        1.0  \n",
       "1      NaN      NaN      NaN      NaN    NaN    NaN   0.301905        1.0  \n",
       "2      NaN      NaN      NaN      NaN    NaN    NaN   0.386071        1.0  \n",
       "3      NaN      NaN      NaN      NaN    NaN    NaN   0.344405        1.0  \n",
       "4      NaN      NaN      NaN      NaN    NaN    NaN   0.304167        1.0  \n",
       "\n",
       "[5 rows x 381 columns]"
      ]
     },
     "execution_count": 36,
     "metadata": {},
     "output_type": "execute_result"
    }
   ],
   "source": [
    "os.chdir('/Users/gyr/Desktop/5019_Python/dataset')\n",
    "\n",
    "w = pd.read_csv(\"WVS.csv\")\n",
    "w.head()"
   ]
  },
  {
   "cell_type": "code",
   "execution_count": 38,
   "id": "157320de",
   "metadata": {},
   "outputs": [],
   "source": [
    "w.rename(columns={'V242':'age',\n",
    "                  'V248':'educ', ## this asks the Highest educational level attained ## \n",
    "                    'V2':'country',\n",
    "                   'V76': 'risk', ## This question asks if respondents consider themselves to be adventurous and risk-takers ##\n",
    "                  'V240':'sex'}, \n",
    "                 inplace=True)"
   ]
  },
  {
   "cell_type": "markdown",
   "id": "b40c21ca",
   "metadata": {},
   "source": [
    "# 1. Run a simple regression, with at least two Xs in it, and interpret your results. (Did the results fit your expectations? Why? Why not?)"
   ]
  },
  {
   "cell_type": "markdown",
   "id": "489dbd65",
   "metadata": {},
   "source": [
    "## Variable 'V76' is renamed 'risk', which is the question: would you please indicate this description of \"it is important for a person to adventure and to take risks\"whether that person is very much like you, like you, somewhat like you, not like you, or not at all like you? "
   ]
  },
  {
   "cell_type": "code",
   "execution_count": 41,
   "id": "20acc6d2",
   "metadata": {},
   "outputs": [
    {
     "data": {
      "text/plain": [
       "5.0    16947\n",
       "3.0    12610\n",
       "4.0    12558\n",
       "6.0    11083\n",
       "2.0    11037\n",
       "1.0     7377\n",
       "Name: risk, dtype: int64"
      ]
     },
     "execution_count": 41,
     "metadata": {},
     "output_type": "execute_result"
    }
   ],
   "source": [
    "w.risk.value_counts()"
   ]
  },
  {
   "cell_type": "markdown",
   "id": "5e825eff",
   "metadata": {},
   "source": [
    "\n",
    "## The answer range is from 1 to 5, which represnts Very much like me(1) to Not like me(5). In other words, 1 represents a greater willingness or ability to take risk, and 5 represents the highest degree of risk aversion.\n",
    "\n",
    "## To make the results more reasonable to interpret, I decided to reverse code the variables. So now as the value increases, it represents a higher risk tolerance or willingness."
   ]
  },
  {
   "cell_type": "code",
   "execution_count": 42,
   "id": "9073d8b5",
   "metadata": {},
   "outputs": [],
   "source": [
    "## reverse code adventure variable - higher variable means Higher risk taking capacity or willingness##\n",
    "w.risk = 6 - w.risk"
   ]
  },
  {
   "cell_type": "markdown",
   "id": "60e6f776",
   "metadata": {},
   "source": [
    "## My question: does one's age and gender affect one's ability or willingness to take risks in China (country = 156). \n",
    "\n",
    "## I expect that people's willingness and ability to take risks decreases with age, and that male have a higher willingness or ability to take risks compared to female.\n"
   ]
  },
  {
   "cell_type": "code",
   "execution_count": 45,
   "id": "4b0d9734",
   "metadata": {},
   "outputs": [
    {
     "name": "stdout",
     "output_type": "stream",
     "text": [
      "                            OLS Regression Results                            \n",
      "==============================================================================\n",
      "Dep. Variable:                   risk   R-squared:                       0.100\n",
      "Model:                            OLS   Adj. R-squared:                  0.099\n",
      "Method:                 Least Squares   F-statistic:                     120.6\n",
      "Date:                Mon, 20 Jun 2022   Prob (F-statistic):           2.22e-50\n",
      "Time:                        15:17:33   Log-Likelihood:                -3596.1\n",
      "No. Observations:                2167   AIC:                             7198.\n",
      "Df Residuals:                    2164   BIC:                             7215.\n",
      "Df Model:                           2                                         \n",
      "Covariance Type:            nonrobust                                         \n",
      "=================================================================================\n",
      "                    coef    std err          t      P>|t|      [0.025      0.975]\n",
      "---------------------------------------------------------------------------------\n",
      "Intercept         3.1634      0.089     35.388      0.000       2.988       3.339\n",
      "C(sex)[T.2.0]    -0.2696      0.055     -4.929      0.000      -0.377      -0.162\n",
      "age              -0.0270      0.002    -14.715      0.000      -0.031      -0.023\n",
      "==============================================================================\n",
      "Omnibus:                      129.994   Durbin-Watson:                   1.784\n",
      "Prob(Omnibus):                  0.000   Jarque-Bera (JB):              143.465\n",
      "Skew:                           0.606   Prob(JB):                     7.03e-32\n",
      "Kurtosis:                       2.655   Cond. No.                         155.\n",
      "==============================================================================\n",
      "\n",
      "Notes:\n",
      "[1] Standard Errors assume that the covariance matrix of the errors is correctly specified.\n"
     ]
    }
   ],
   "source": [
    "lm1 = smf.ols(formula = 'risk ~ age + C(sex)', data = w, subset = (w['country']==156)).fit()\n",
    "print(lm1.summary())"
   ]
  },
  {
   "cell_type": "markdown",
   "id": "55095573",
   "metadata": {},
   "source": [
    "## The regression results indicate that women (sex = 2) have a lower willingness or ability to take risks than men by 0.27 ponits,controlling for constant age. When gender remains constant, the ability of a person to be willing or able to take risks begins to decline by 0.027 ponits as age increases. This result is in line with my expectations."
   ]
  },
  {
   "cell_type": "markdown",
   "id": "afdc7e85",
   "metadata": {},
   "source": [
    "# 2. Add an interaction term to that model that you think might moderate the original relationship between X1 and X2. Explain why you think an interaction might be present and in what direction it would work. Explain your results. Did it work out? Yes? No?"
   ]
  },
  {
   "cell_type": "markdown",
   "id": "41a1d19e",
   "metadata": {},
   "source": [
    "## Include an interaction between age and sex since I speculate that women will have more risk tolerance than men at a certain time. Maybe after having children, the power of mother’s love will make them stronger and selfless, and they will be more willing to take more risks for their children."
   ]
  },
  {
   "cell_type": "code",
   "execution_count": 54,
   "id": "0b4c0014",
   "metadata": {},
   "outputs": [
    {
     "name": "stdout",
     "output_type": "stream",
     "text": [
      "                            OLS Regression Results                            \n",
      "==============================================================================\n",
      "Dep. Variable:                   risk   R-squared:                       0.102\n",
      "Model:                            OLS   Adj. R-squared:                  0.101\n",
      "Method:                 Least Squares   F-statistic:                     82.08\n",
      "Date:                Mon, 20 Jun 2022   Prob (F-statistic):           2.72e-50\n",
      "Time:                        16:28:29   Log-Likelihood:                -3593.8\n",
      "No. Observations:                2167   AIC:                             7196.\n",
      "Df Residuals:                    2163   BIC:                             7218.\n",
      "Df Model:                           3                                         \n",
      "Covariance Type:            nonrobust                                         \n",
      "=====================================================================================\n",
      "                        coef    std err          t      P>|t|      [0.025      0.975]\n",
      "-------------------------------------------------------------------------------------\n",
      "Intercept             3.3421      0.122     27.442      0.000       3.103       3.581\n",
      "C(sex)[T.2.0]        -0.6169      0.170     -3.631      0.000      -0.950      -0.284\n",
      "age                  -0.0311      0.003    -11.805      0.000      -0.036      -0.026\n",
      "age:C(sex)[T.2.0]     0.0079      0.004      2.159      0.031       0.001       0.015\n",
      "==============================================================================\n",
      "Omnibus:                      129.599   Durbin-Watson:                   1.786\n",
      "Prob(Omnibus):                  0.000   Jarque-Bera (JB):              144.038\n",
      "Skew:                           0.609   Prob(JB):                     5.28e-32\n",
      "Kurtosis:                       2.668   Cond. No.                         382.\n",
      "==============================================================================\n",
      "\n",
      "Notes:\n",
      "[1] Standard Errors assume that the covariance matrix of the errors is correctly specified.\n"
     ]
    }
   ],
   "source": [
    "lm2 = smf.ols(formula = 'risk ~ age * C(sex)', data = w, subset = (w['country']==156)).fit()\n",
    "print(lm2.summary())"
   ]
  },
  {
   "cell_type": "code",
   "execution_count": 52,
   "id": "fb8f55b5",
   "metadata": {},
   "outputs": [
    {
     "name": "stdout",
     "output_type": "stream",
     "text": [
      "                            OLS Regression Results                            \n",
      "==============================================================================\n",
      "Dep. Variable:                   risk   R-squared:                       0.127\n",
      "Model:                            OLS   Adj. R-squared:                  0.125\n",
      "Method:                 Least Squares   F-statistic:                     105.6\n",
      "Date:                Mon, 20 Jun 2022   Prob (F-statistic):           8.09e-64\n",
      "Time:                        16:07:14   Log-Likelihood:                -3582.4\n",
      "No. Observations:                2189   AIC:                             7173.\n",
      "Df Residuals:                    2185   BIC:                             7195.\n",
      "Df Model:                           3                                         \n",
      "Covariance Type:            nonrobust                                         \n",
      "=====================================================================================\n",
      "                        coef    std err          t      P>|t|      [0.025      0.975]\n",
      "-------------------------------------------------------------------------------------\n",
      "Intercept             3.2933      0.117     28.198      0.000       3.064       3.522\n",
      "C(sex)[T.2.0]        -0.1439      0.164     -0.879      0.380      -0.465       0.177\n",
      "age                  -0.0221      0.002     -9.847      0.000      -0.027      -0.018\n",
      "age:C(sex)[T.2.0]    -0.0057      0.003     -1.808      0.071      -0.012       0.000\n",
      "==============================================================================\n",
      "Omnibus:                       59.911   Durbin-Watson:                   1.995\n",
      "Prob(Omnibus):                  0.000   Jarque-Bera (JB):               57.388\n",
      "Skew:                           0.356   Prob(JB):                     3.45e-13\n",
      "Kurtosis:                       2.651   Cond. No.                         423.\n",
      "==============================================================================\n",
      "\n",
      "Notes:\n",
      "[1] Standard Errors assume that the covariance matrix of the errors is correctly specified.\n"
     ]
    }
   ],
   "source": [
    "lm3 = smf.ols(formula = 'risk ~ age * C(sex)', data = w, subset = (w['country']==840)).fit()\n",
    "print(lm3.summary())"
   ]
  },
  {
   "cell_type": "markdown",
   "id": "4928389d",
   "metadata": {},
   "source": [
    "## The interaction variables results show that the decline in women's willingness and ability to take risks begins to slow with age. So we can say that female ability and willingness to take risks after a certain age are higher than male.\n",
    "\n",
    "## However, the results are very surprising. From the graph below, it can be seen that men and women meet at about the age of 80. After the age of 80, women's willingness and ability to take risks begin to be higher than men. This is not consistent with the reason I surmised even though I guessed the result correctly. I can't give a reasonable guess as to why Chinese women have a higher risk-taking capacity than men at age 80. What we do know is that Chinese women's ability to take risks is declining at a lower rate than men's\n",
    "\n",
    "## So I built the same model for the United States, and wanted to see if the results would be the same, but the result is that in the United States, as the age increases, the willingness or ability of men to take risks is always higher than that of women."
   ]
  },
  {
   "cell_type": "markdown",
   "id": "7a6fb889",
   "metadata": {},
   "source": [
    "# 3. Extra Credit: Plot the relationship found in the interaction."
   ]
  },
  {
   "cell_type": "code",
   "execution_count": 60,
   "id": "188aac42",
   "metadata": {},
   "outputs": [
    {
     "data": {
      "image/png": "[encoded data removed]",
      "text/plain": [
       "<Figure size 432x288 with 1 Axes>"
      ]
     },
     "metadata": {
      "needs_background": "light"
     },
     "output_type": "display_data"
    }
   ],
   "source": [
    "plt.plot(w[\"age\"], lm2.params[0] + lm2.params[1] * 1 + lm2.params[2] * w[\"age\"] + lm2.params[3] * 1 * w[\"age\"], 'b', label = 'Female', alpha = 0.9)\n",
    "plt.plot(w[\"age\"], lm2.params[0] + lm2.params[1] * 0 + lm2.params[2] * w[\"age\"] + lm2.params[3] * 0 * w[\"age\"], 'r', label = 'Male', alpha = 0.9)\n",
    "plt.title(\"The Willingness or Ability to Take Risks in China, Male (red) vs. Female (blue)\")\n",
    "plt.xlabel(\"age\")\n",
    "plt.ylabel(\"willing to take risks\")\n",
    "plt.show()"
   ]
  },
  {
   "cell_type": "code",
   "execution_count": 61,
   "id": "66d8b5cc",
   "metadata": {},
   "outputs": [
    {
     "data": {
      "image/png": "[encoded data removed]",
      "text/plain": [
       "<Figure size 432x288 with 1 Axes>"
      ]
     },
     "metadata": {
      "needs_background": "light"
     },
     "output_type": "display_data"
    }
   ],
   "source": [
    "plt.plot(w[\"age\"], lm3.params[0] + lm3.params[1] * 1 + lm3.params[2] * w[\"age\"] + lm3.params[3] * 1 * w[\"age\"], 'b', label = 'Female', alpha = 0.9)\n",
    "plt.plot(w[\"age\"], lm3.params[0] + lm3.params[1] * 0 + lm3.params[2] * w[\"age\"] + lm3.params[3] * 0 * w[\"age\"], 'r', label = 'Male', alpha = 0.9)\n",
    "plt.title(\"The Willingness or Ability to Take Risks in U.S., Male (red) vs. Female (blue)\")\n",
    "plt.xlabel(\"age\")\n",
    "plt.ylabel(\"willing to take risks\")\n",
    "plt.show()"
   ]
  }
 ],
 "metadata": {
  "kernelspec": {
   "display_name": "Python 3 (ipykernel)",
   "language": "python",
   "name": "python3"
  },
  "language_info": {
   "codemirror_mode": {
    "name": "ipython",
    "version": 3
   },
   "file_extension": ".py",
   "mimetype": "text/x-python",
   "name": "python",
   "nbconvert_exporter": "python",
   "pygments_lexer": "ipython3",
   "version": "3.9.7"
  },
  "toc": {
   "base_numbering": 1,
   "nav_menu": {},
   "number_sections": false,
   "sideBar": true,
   "skip_h1_title": false,
   "title_cell": "Table of Contents",
   "title_sidebar": "Contents",
   "toc_cell": true,
   "toc_position": {},
   "toc_section_display": true,
   "toc_window_display": false
  }
 },
 "nbformat": 4,
 "nbformat_minor": 5
}

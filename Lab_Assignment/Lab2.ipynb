{
 "cells": [
  {
   "cell_type": "code",
   "execution_count": 200,
   "id": "4f2f38dd",
   "metadata": {},
   "outputs": [],
   "source": [
    "from __future__ import division\n",
    "import pandas as pd\n",
    "import numpy as np\n",
    "import statsmodels.api as sm\n",
    "import statsmodels.formula.api as smf\n",
    "import os\n",
    "import matplotlib.pyplot as plt"
   ]
  },
  {
   "cell_type": "code",
   "execution_count": 201,
   "id": "3c80f123",
   "metadata": {},
   "outputs": [
    {
     "data": {
      "text/html": [
       "<div>\n",
       "<style scoped>\n",
       "    .dataframe tbody tr th:only-of-type {\n",
       "        vertical-align: middle;\n",
       "    }\n",
       "\n",
       "    .dataframe tbody tr th {\n",
       "        vertical-align: top;\n",
       "    }\n",
       "\n",
       "    .dataframe thead th {\n",
       "        text-align: right;\n",
       "    }\n",
       "</style>\n",
       "<table border=\"1\" class=\"dataframe\">\n",
       "  <thead>\n",
       "    <tr style=\"text-align: right;\">\n",
       "      <th></th>\n",
       "      <th>vpsu</th>\n",
       "      <th>vstrat</th>\n",
       "      <th>adults</th>\n",
       "      <th>ballot</th>\n",
       "      <th>dateintv</th>\n",
       "      <th>famgen</th>\n",
       "      <th>form</th>\n",
       "      <th>formwt</th>\n",
       "      <th>gender1</th>\n",
       "      <th>hompop</th>\n",
       "      <th>...</th>\n",
       "      <th>away7</th>\n",
       "      <th>gender14</th>\n",
       "      <th>old14</th>\n",
       "      <th>relate14</th>\n",
       "      <th>relhh14</th>\n",
       "      <th>relhhd14</th>\n",
       "      <th>relsp14</th>\n",
       "      <th>where12</th>\n",
       "      <th>where6</th>\n",
       "      <th>where7</th>\n",
       "    </tr>\n",
       "  </thead>\n",
       "  <tbody>\n",
       "    <tr>\n",
       "      <th>0</th>\n",
       "      <td>1</td>\n",
       "      <td>1957</td>\n",
       "      <td>1</td>\n",
       "      <td>3</td>\n",
       "      <td>316</td>\n",
       "      <td>2</td>\n",
       "      <td>1</td>\n",
       "      <td>1</td>\n",
       "      <td>2</td>\n",
       "      <td>3</td>\n",
       "      <td>...</td>\n",
       "      <td>NaN</td>\n",
       "      <td>NaN</td>\n",
       "      <td>NaN</td>\n",
       "      <td>NaN</td>\n",
       "      <td>NaN</td>\n",
       "      <td>NaN</td>\n",
       "      <td>NaN</td>\n",
       "      <td>NaN</td>\n",
       "      <td>NaN</td>\n",
       "      <td>NaN</td>\n",
       "    </tr>\n",
       "    <tr>\n",
       "      <th>1</th>\n",
       "      <td>1</td>\n",
       "      <td>1957</td>\n",
       "      <td>2</td>\n",
       "      <td>2</td>\n",
       "      <td>630</td>\n",
       "      <td>1</td>\n",
       "      <td>2</td>\n",
       "      <td>1</td>\n",
       "      <td>2</td>\n",
       "      <td>2</td>\n",
       "      <td>...</td>\n",
       "      <td>NaN</td>\n",
       "      <td>NaN</td>\n",
       "      <td>NaN</td>\n",
       "      <td>NaN</td>\n",
       "      <td>NaN</td>\n",
       "      <td>NaN</td>\n",
       "      <td>NaN</td>\n",
       "      <td>NaN</td>\n",
       "      <td>NaN</td>\n",
       "      <td>NaN</td>\n",
       "    </tr>\n",
       "    <tr>\n",
       "      <th>2</th>\n",
       "      <td>1</td>\n",
       "      <td>1957</td>\n",
       "      <td>2</td>\n",
       "      <td>2</td>\n",
       "      <td>314</td>\n",
       "      <td>2</td>\n",
       "      <td>1</td>\n",
       "      <td>1</td>\n",
       "      <td>2</td>\n",
       "      <td>2</td>\n",
       "      <td>...</td>\n",
       "      <td>NaN</td>\n",
       "      <td>NaN</td>\n",
       "      <td>NaN</td>\n",
       "      <td>NaN</td>\n",
       "      <td>NaN</td>\n",
       "      <td>NaN</td>\n",
       "      <td>NaN</td>\n",
       "      <td>NaN</td>\n",
       "      <td>NaN</td>\n",
       "      <td>NaN</td>\n",
       "    </tr>\n",
       "    <tr>\n",
       "      <th>3</th>\n",
       "      <td>1</td>\n",
       "      <td>1957</td>\n",
       "      <td>1</td>\n",
       "      <td>1</td>\n",
       "      <td>313</td>\n",
       "      <td>1</td>\n",
       "      <td>2</td>\n",
       "      <td>1</td>\n",
       "      <td>2</td>\n",
       "      <td>1</td>\n",
       "      <td>...</td>\n",
       "      <td>NaN</td>\n",
       "      <td>NaN</td>\n",
       "      <td>NaN</td>\n",
       "      <td>NaN</td>\n",
       "      <td>NaN</td>\n",
       "      <td>NaN</td>\n",
       "      <td>NaN</td>\n",
       "      <td>NaN</td>\n",
       "      <td>NaN</td>\n",
       "      <td>NaN</td>\n",
       "    </tr>\n",
       "    <tr>\n",
       "      <th>4</th>\n",
       "      <td>1</td>\n",
       "      <td>1957</td>\n",
       "      <td>3</td>\n",
       "      <td>1</td>\n",
       "      <td>322</td>\n",
       "      <td>2</td>\n",
       "      <td>2</td>\n",
       "      <td>1</td>\n",
       "      <td>2</td>\n",
       "      <td>3</td>\n",
       "      <td>...</td>\n",
       "      <td>NaN</td>\n",
       "      <td>NaN</td>\n",
       "      <td>NaN</td>\n",
       "      <td>NaN</td>\n",
       "      <td>NaN</td>\n",
       "      <td>NaN</td>\n",
       "      <td>NaN</td>\n",
       "      <td>NaN</td>\n",
       "      <td>NaN</td>\n",
       "      <td>NaN</td>\n",
       "    </tr>\n",
       "  </tbody>\n",
       "</table>\n",
       "<p>5 rows × 1261 columns</p>\n",
       "</div>"
      ],
      "text/plain": [
       "   vpsu  vstrat  adults  ballot  dateintv  famgen  form  formwt  gender1  \\\n",
       "0     1    1957       1       3       316       2     1       1        2   \n",
       "1     1    1957       2       2       630       1     2       1        2   \n",
       "2     1    1957       2       2       314       2     1       1        2   \n",
       "3     1    1957       1       1       313       1     2       1        2   \n",
       "4     1    1957       3       1       322       2     2       1        2   \n",
       "\n",
       "   hompop  ...  away7  gender14  old14  relate14  relhh14  relhhd14  relsp14  \\\n",
       "0       3  ...    NaN       NaN    NaN       NaN      NaN       NaN      NaN   \n",
       "1       2  ...    NaN       NaN    NaN       NaN      NaN       NaN      NaN   \n",
       "2       2  ...    NaN       NaN    NaN       NaN      NaN       NaN      NaN   \n",
       "3       1  ...    NaN       NaN    NaN       NaN      NaN       NaN      NaN   \n",
       "4       3  ...    NaN       NaN    NaN       NaN      NaN       NaN      NaN   \n",
       "\n",
       "   where12  where6  where7  \n",
       "0      NaN     NaN     NaN  \n",
       "1      NaN     NaN     NaN  \n",
       "2      NaN     NaN     NaN  \n",
       "3      NaN     NaN     NaN  \n",
       "4      NaN     NaN     NaN  \n",
       "\n",
       "[5 rows x 1261 columns]"
      ]
     },
     "execution_count": 201,
     "metadata": {},
     "output_type": "execute_result"
    }
   ],
   "source": [
    "os.chdir('/Users/gyr/Desktop/5019_Python/lab1') # change working directory\n",
    "d = pd.read_csv(\"GSS.2006.csv\")\n",
    "d.head()"
   ]
  },
  {
   "cell_type": "markdown",
   "id": "9c75c52a",
   "metadata": {},
   "source": [
    "# 1. Recode 2 different variables into new categories. They can both be continuous-ish or both be nominal-ish, or one of each. Tell me what you did and explain the variable(s)."
   ]
  },
  {
   "cell_type": "markdown",
   "id": "353f1eca",
   "metadata": {},
   "source": [
    "## a) The first variable I chose was socfrend, which represents frequency of having a social evening with friends who live outside the neighborhood. Socfrend 1 to 7 indiccates different social frequenccy. Social frequency decreases as numbers increase.\n",
    "\n",
    "## Create a number of categories for this variable: high, medium, low. "
   ]
  },
  {
   "cell_type": "code",
   "execution_count": 202,
   "id": "954881e0",
   "metadata": {},
   "outputs": [
    {
     "data": {
      "text/html": [
       "<div>\n",
       "<style scoped>\n",
       "    .dataframe tbody tr th:only-of-type {\n",
       "        vertical-align: middle;\n",
       "    }\n",
       "\n",
       "    .dataframe tbody tr th {\n",
       "        vertical-align: top;\n",
       "    }\n",
       "\n",
       "    .dataframe thead th {\n",
       "        text-align: right;\n",
       "    }\n",
       "</style>\n",
       "<table border=\"1\" class=\"dataframe\">\n",
       "  <thead>\n",
       "    <tr style=\"text-align: right;\">\n",
       "      <th>col_0</th>\n",
       "      <th>count</th>\n",
       "    </tr>\n",
       "    <tr>\n",
       "      <th>socfrend</th>\n",
       "      <th></th>\n",
       "    </tr>\n",
       "  </thead>\n",
       "  <tbody>\n",
       "    <tr>\n",
       "      <th>1.0</th>\n",
       "      <td>64</td>\n",
       "    </tr>\n",
       "    <tr>\n",
       "      <th>2.0</th>\n",
       "      <td>390</td>\n",
       "    </tr>\n",
       "    <tr>\n",
       "      <th>3.0</th>\n",
       "      <td>370</td>\n",
       "    </tr>\n",
       "    <tr>\n",
       "      <th>4.0</th>\n",
       "      <td>462</td>\n",
       "    </tr>\n",
       "    <tr>\n",
       "      <th>5.0</th>\n",
       "      <td>343</td>\n",
       "    </tr>\n",
       "    <tr>\n",
       "      <th>6.0</th>\n",
       "      <td>155</td>\n",
       "    </tr>\n",
       "    <tr>\n",
       "      <th>7.0</th>\n",
       "      <td>205</td>\n",
       "    </tr>\n",
       "  </tbody>\n",
       "</table>\n",
       "</div>"
      ],
      "text/plain": [
       "col_0     count\n",
       "socfrend       \n",
       "1.0          64\n",
       "2.0         390\n",
       "3.0         370\n",
       "4.0         462\n",
       "5.0         343\n",
       "6.0         155\n",
       "7.0         205"
      ]
     },
     "execution_count": 202,
     "metadata": {},
     "output_type": "execute_result"
    }
   ],
   "source": [
    "pd.crosstab(index=d[\"socfrend\"], columns=\"count\")"
   ]
  },
  {
   "cell_type": "markdown",
   "id": "072fc172",
   "metadata": {},
   "source": [
    "## I use label 2 for high social frequency, label 1 for medium social frequency, and label 0 for low social frequency which also includes no social"
   ]
  },
  {
   "cell_type": "code",
   "execution_count": 234,
   "id": "dcdce502",
   "metadata": {},
   "outputs": [],
   "source": [
    "## 3 types of high frequency, medium frequency, low frequency ##\n",
    "\n",
    "\n",
    "conditions = [\n",
    "    (d['socfrend'] <= 2) ,\n",
    "    (d['socfrend'] >= 3 ) & (d['socfrend'] <= 4),\n",
    "    (d['socfrend'] >= 5)]\n",
    "choices = [2, 1, 0]\n",
    "d['socfrend_cut'] = np.select(conditions, choices)"
   ]
  },
  {
   "cell_type": "code",
   "execution_count": 235,
   "id": "2ceee66b",
   "metadata": {},
   "outputs": [
    {
     "data": {
      "text/plain": [
       "count    4510.000000\n",
       "mean        0.385809\n",
       "std         0.662109\n",
       "min         0.000000\n",
       "25%         0.000000\n",
       "50%         0.000000\n",
       "75%         1.000000\n",
       "max         2.000000\n",
       "Name: socfrend_cut, dtype: float64"
      ]
     },
     "execution_count": 235,
     "metadata": {},
     "output_type": "execute_result"
    }
   ],
   "source": [
    "d.socfrend_cut.describe()"
   ]
  },
  {
   "cell_type": "code",
   "execution_count": 236,
   "id": "2e929ebf",
   "metadata": {},
   "outputs": [
    {
     "data": {
      "text/plain": [
       "0.0    703\n",
       "1.0    832\n",
       "2.0    454\n",
       "Name: socfrend_cut, dtype: int64"
      ]
     },
     "execution_count": 236,
     "metadata": {},
     "output_type": "execute_result"
    }
   ],
   "source": [
    "## How many of each category are there?\n",
    "d['socfrend_cut'] = np.select(conditions, choices, default=np.nan)\n",
    "pd.value_counts(d[\"socfrend_cut\"], sort=False)"
   ]
  },
  {
   "cell_type": "markdown",
   "id": "46573a14",
   "metadata": {},
   "source": [
    "### Check the recoding: It is \"2\" for categories less than 3, \"1\" for categories from 3 to 4, and it is \"0\" for categories greater than 4."
   ]
  },
  {
   "cell_type": "code",
   "execution_count": 224,
   "id": "0148b68c",
   "metadata": {},
   "outputs": [
    {
     "data": {
      "text/html": [
       "<div>\n",
       "<style scoped>\n",
       "    .dataframe tbody tr th:only-of-type {\n",
       "        vertical-align: middle;\n",
       "    }\n",
       "\n",
       "    .dataframe tbody tr th {\n",
       "        vertical-align: top;\n",
       "    }\n",
       "\n",
       "    .dataframe thead th {\n",
       "        text-align: right;\n",
       "    }\n",
       "</style>\n",
       "<table border=\"1\" class=\"dataframe\">\n",
       "  <thead>\n",
       "    <tr style=\"text-align: right;\">\n",
       "      <th>socfrend_cut</th>\n",
       "      <th>0.0</th>\n",
       "      <th>1.0</th>\n",
       "      <th>2.0</th>\n",
       "    </tr>\n",
       "    <tr>\n",
       "      <th>socfrend</th>\n",
       "      <th></th>\n",
       "      <th></th>\n",
       "      <th></th>\n",
       "    </tr>\n",
       "  </thead>\n",
       "  <tbody>\n",
       "    <tr>\n",
       "      <th>1.0</th>\n",
       "      <td>0.000000</td>\n",
       "      <td>0.140969</td>\n",
       "      <td>0.000000</td>\n",
       "    </tr>\n",
       "    <tr>\n",
       "      <th>2.0</th>\n",
       "      <td>0.000000</td>\n",
       "      <td>0.859031</td>\n",
       "      <td>0.000000</td>\n",
       "    </tr>\n",
       "    <tr>\n",
       "      <th>3.0</th>\n",
       "      <td>0.000000</td>\n",
       "      <td>0.000000</td>\n",
       "      <td>0.444712</td>\n",
       "    </tr>\n",
       "    <tr>\n",
       "      <th>4.0</th>\n",
       "      <td>0.000000</td>\n",
       "      <td>0.000000</td>\n",
       "      <td>0.555288</td>\n",
       "    </tr>\n",
       "    <tr>\n",
       "      <th>5.0</th>\n",
       "      <td>0.487909</td>\n",
       "      <td>0.000000</td>\n",
       "      <td>0.000000</td>\n",
       "    </tr>\n",
       "    <tr>\n",
       "      <th>6.0</th>\n",
       "      <td>0.220484</td>\n",
       "      <td>0.000000</td>\n",
       "      <td>0.000000</td>\n",
       "    </tr>\n",
       "    <tr>\n",
       "      <th>7.0</th>\n",
       "      <td>0.291607</td>\n",
       "      <td>0.000000</td>\n",
       "      <td>0.000000</td>\n",
       "    </tr>\n",
       "  </tbody>\n",
       "</table>\n",
       "</div>"
      ],
      "text/plain": [
       "socfrend_cut       0.0       1.0       2.0\n",
       "socfrend                                  \n",
       "1.0           0.000000  0.140969  0.000000\n",
       "2.0           0.000000  0.859031  0.000000\n",
       "3.0           0.000000  0.000000  0.444712\n",
       "4.0           0.000000  0.000000  0.555288\n",
       "5.0           0.487909  0.000000  0.000000\n",
       "6.0           0.220484  0.000000  0.000000\n",
       "7.0           0.291607  0.000000  0.000000"
      ]
     },
     "execution_count": 224,
     "metadata": {},
     "output_type": "execute_result"
    }
   ],
   "source": [
    "res = pd.crosstab(d.socfrend, d.socfrend_cut)\n",
    "res.astype('float').div(res.sum(axis=0), axis=1)"
   ]
  },
  {
   "cell_type": "markdown",
   "id": "e82081f4",
   "metadata": {},
   "source": [
    "## b) Creating a binary category for variable wrkstat, which indicates respondents' work status last week. The wrkstat 1 to 8 represent the different working states. working full-time, part-time, going to school, keeping house, or what.\n"
   ]
  },
  {
   "cell_type": "code",
   "execution_count": 239,
   "id": "1ead457b",
   "metadata": {},
   "outputs": [
    {
     "data": {
      "text/html": [
       "<div>\n",
       "<style scoped>\n",
       "    .dataframe tbody tr th:only-of-type {\n",
       "        vertical-align: middle;\n",
       "    }\n",
       "\n",
       "    .dataframe tbody tr th {\n",
       "        vertical-align: top;\n",
       "    }\n",
       "\n",
       "    .dataframe thead th {\n",
       "        text-align: right;\n",
       "    }\n",
       "</style>\n",
       "<table border=\"1\" class=\"dataframe\">\n",
       "  <thead>\n",
       "    <tr style=\"text-align: right;\">\n",
       "      <th>col_0</th>\n",
       "      <th>count</th>\n",
       "    </tr>\n",
       "    <tr>\n",
       "      <th>wrkstat</th>\n",
       "      <th></th>\n",
       "    </tr>\n",
       "  </thead>\n",
       "  <tbody>\n",
       "    <tr>\n",
       "      <th>1.0</th>\n",
       "      <td>2322</td>\n",
       "    </tr>\n",
       "    <tr>\n",
       "      <th>2.0</th>\n",
       "      <td>440</td>\n",
       "    </tr>\n",
       "    <tr>\n",
       "      <th>3.0</th>\n",
       "      <td>90</td>\n",
       "    </tr>\n",
       "    <tr>\n",
       "      <th>4.0</th>\n",
       "      <td>148</td>\n",
       "    </tr>\n",
       "    <tr>\n",
       "      <th>5.0</th>\n",
       "      <td>715</td>\n",
       "    </tr>\n",
       "    <tr>\n",
       "      <th>6.0</th>\n",
       "      <td>140</td>\n",
       "    </tr>\n",
       "    <tr>\n",
       "      <th>7.0</th>\n",
       "      <td>496</td>\n",
       "    </tr>\n",
       "    <tr>\n",
       "      <th>8.0</th>\n",
       "      <td>155</td>\n",
       "    </tr>\n",
       "  </tbody>\n",
       "</table>\n",
       "</div>"
      ],
      "text/plain": [
       "col_0    count\n",
       "wrkstat       \n",
       "1.0       2322\n",
       "2.0        440\n",
       "3.0         90\n",
       "4.0        148\n",
       "5.0        715\n",
       "6.0        140\n",
       "7.0        496\n",
       "8.0        155"
      ]
     },
     "execution_count": 239,
     "metadata": {},
     "output_type": "execute_result"
    }
   ],
   "source": [
    "pd.crosstab(index=d[\"wrkstat\"], columns=\"count\")"
   ]
  },
  {
   "cell_type": "markdown",
   "id": "2e4205e8",
   "metadata": {},
   "source": [
    "## Current working status can be full-time, part-time or temporarily off of people are coded for 1(employed). The people with no job status are coded for 0(unemployed)"
   ]
  },
  {
   "cell_type": "code",
   "execution_count": 240,
   "id": "0e5887a4",
   "metadata": {},
   "outputs": [],
   "source": [
    "conditions = [\n",
    "    (d['wrkstat'] < 4),\n",
    "    (d['wrkstat'] > 3 )]\n",
    "choices = [1,0]\n",
    "d['emp'] = np.select(conditions, choices, default=np.nan)"
   ]
  },
  {
   "cell_type": "code",
   "execution_count": 241,
   "id": "b127a803",
   "metadata": {},
   "outputs": [
    {
     "data": {
      "text/plain": [
       "1.0    2852\n",
       "0.0    1654\n",
       "Name: emp, dtype: int64"
      ]
     },
     "execution_count": 241,
     "metadata": {},
     "output_type": "execute_result"
    }
   ],
   "source": [
    "## How many of each category are there?\n",
    "d['emp'] = np.select(conditions, choices, default=np.nan)\n",
    "pd.value_counts(d[\"emp\"], sort=False)"
   ]
  },
  {
   "cell_type": "markdown",
   "id": "388fc70a",
   "metadata": {},
   "source": [
    "### Check the recoding: It is \"1\" for categories less than 4, and it is \"0\" for categories greater than 3."
   ]
  },
  {
   "cell_type": "code",
   "execution_count": 242,
   "id": "472eb3ef",
   "metadata": {},
   "outputs": [
    {
     "data": {
      "text/html": [
       "<div>\n",
       "<style scoped>\n",
       "    .dataframe tbody tr th:only-of-type {\n",
       "        vertical-align: middle;\n",
       "    }\n",
       "\n",
       "    .dataframe tbody tr th {\n",
       "        vertical-align: top;\n",
       "    }\n",
       "\n",
       "    .dataframe thead th {\n",
       "        text-align: right;\n",
       "    }\n",
       "</style>\n",
       "<table border=\"1\" class=\"dataframe\">\n",
       "  <thead>\n",
       "    <tr style=\"text-align: right;\">\n",
       "      <th>emp</th>\n",
       "      <th>0.0</th>\n",
       "      <th>1.0</th>\n",
       "    </tr>\n",
       "    <tr>\n",
       "      <th>wrkstat</th>\n",
       "      <th></th>\n",
       "      <th></th>\n",
       "    </tr>\n",
       "  </thead>\n",
       "  <tbody>\n",
       "    <tr>\n",
       "      <th>1.0</th>\n",
       "      <td>0.000000</td>\n",
       "      <td>0.814165</td>\n",
       "    </tr>\n",
       "    <tr>\n",
       "      <th>2.0</th>\n",
       "      <td>0.000000</td>\n",
       "      <td>0.154278</td>\n",
       "    </tr>\n",
       "    <tr>\n",
       "      <th>3.0</th>\n",
       "      <td>0.000000</td>\n",
       "      <td>0.031557</td>\n",
       "    </tr>\n",
       "    <tr>\n",
       "      <th>4.0</th>\n",
       "      <td>0.089480</td>\n",
       "      <td>0.000000</td>\n",
       "    </tr>\n",
       "    <tr>\n",
       "      <th>5.0</th>\n",
       "      <td>0.432285</td>\n",
       "      <td>0.000000</td>\n",
       "    </tr>\n",
       "    <tr>\n",
       "      <th>6.0</th>\n",
       "      <td>0.084643</td>\n",
       "      <td>0.000000</td>\n",
       "    </tr>\n",
       "    <tr>\n",
       "      <th>7.0</th>\n",
       "      <td>0.299879</td>\n",
       "      <td>0.000000</td>\n",
       "    </tr>\n",
       "    <tr>\n",
       "      <th>8.0</th>\n",
       "      <td>0.093712</td>\n",
       "      <td>0.000000</td>\n",
       "    </tr>\n",
       "  </tbody>\n",
       "</table>\n",
       "</div>"
      ],
      "text/plain": [
       "emp           0.0       1.0\n",
       "wrkstat                    \n",
       "1.0      0.000000  0.814165\n",
       "2.0      0.000000  0.154278\n",
       "3.0      0.000000  0.031557\n",
       "4.0      0.089480  0.000000\n",
       "5.0      0.432285  0.000000\n",
       "6.0      0.084643  0.000000\n",
       "7.0      0.299879  0.000000\n",
       "8.0      0.093712  0.000000"
      ]
     },
     "execution_count": 242,
     "metadata": {},
     "output_type": "execute_result"
    }
   ],
   "source": [
    "res = pd.crosstab(d.wrkstat, d.emp)\n",
    "res.astype('float').div(res.sum(axis=0), axis=1)"
   ]
  },
  {
   "cell_type": "markdown",
   "id": "7e89f768",
   "metadata": {},
   "source": [
    "# 2. Use one (or both) of your recoded variables to do a cross-tabulation. Explain your results."
   ]
  },
  {
   "cell_type": "markdown",
   "id": "ca9f6284",
   "metadata": {},
   "source": [
    "### I want to know how different work status affects the frequency of social interaction"
   ]
  },
  {
   "cell_type": "code",
   "execution_count": 244,
   "id": "6e592e6f",
   "metadata": {},
   "outputs": [
    {
     "data": {
      "text/html": [
       "<div>\n",
       "<style scoped>\n",
       "    .dataframe tbody tr th:only-of-type {\n",
       "        vertical-align: middle;\n",
       "    }\n",
       "\n",
       "    .dataframe tbody tr th {\n",
       "        vertical-align: top;\n",
       "    }\n",
       "\n",
       "    .dataframe thead th {\n",
       "        text-align: right;\n",
       "    }\n",
       "</style>\n",
       "<table border=\"1\" class=\"dataframe\">\n",
       "  <thead>\n",
       "    <tr style=\"text-align: right;\">\n",
       "      <th>emp</th>\n",
       "      <th>0.0</th>\n",
       "      <th>1.0</th>\n",
       "    </tr>\n",
       "    <tr>\n",
       "      <th>socfrend_cut</th>\n",
       "      <th></th>\n",
       "      <th></th>\n",
       "    </tr>\n",
       "  </thead>\n",
       "  <tbody>\n",
       "    <tr>\n",
       "      <th>0.0</th>\n",
       "      <td>0.413838</td>\n",
       "      <td>0.315617</td>\n",
       "    </tr>\n",
       "    <tr>\n",
       "      <th>1.0</th>\n",
       "      <td>0.382507</td>\n",
       "      <td>0.440720</td>\n",
       "    </tr>\n",
       "    <tr>\n",
       "      <th>2.0</th>\n",
       "      <td>0.203655</td>\n",
       "      <td>0.243663</td>\n",
       "    </tr>\n",
       "  </tbody>\n",
       "</table>\n",
       "</div>"
      ],
      "text/plain": [
       "emp                0.0       1.0\n",
       "socfrend_cut                    \n",
       "0.0           0.413838  0.315617\n",
       "1.0           0.382507  0.440720\n",
       "2.0           0.203655  0.243663"
      ]
     },
     "execution_count": 244,
     "metadata": {},
     "output_type": "execute_result"
    }
   ],
   "source": [
    "res.p = pd.crosstab(d['socfrend_cut'], d['emp'], normalize='columns')\n",
    "res.p"
   ]
  },
  {
   "cell_type": "markdown",
   "id": "7c9a32af",
   "metadata": {},
   "source": [
    "## The result from this cross-tabulation shows that employees typically have a higher frequency of socializing with friends compared to the unemployed. 24.4% of employees have high frequency of socializing, 44.1% have medium frequency of socializing, and both medium and high frequency of socializing exceed the percentage of the unemployed, 20.4% and 38.3%. While the number of low social frequency unemployed is much higher than the number of employed, approximately 10%. Compared with the unemployed, Therefore, the employed have relatively higher social frequency.\n"
   ]
  },
  {
   "cell_type": "markdown",
   "id": "c201d262",
   "metadata": {},
   "source": [
    "# 3. Run a linear regression with 1 independent and 1 dependent variable; make all of the recodes necessary to make the model as easy to interpret as possible; and explain your results."
   ]
  },
  {
   "cell_type": "markdown",
   "id": "d140d2af",
   "metadata": {},
   "source": [
    "## The two variables I chose are prestg80 and sppres80. which represent the prestige of the respondent's occupation and the prestige of the respondent's spouse's occupation, respectively. My question is whether respondents' occupational prestige and their spouse's occupational prestige can show a positive relationship."
   ]
  },
  {
   "cell_type": "code",
   "execution_count": 143,
   "id": "ac260545",
   "metadata": {},
   "outputs": [
    {
     "name": "stdout",
     "output_type": "stream",
     "text": [
      "                            OLS Regression Results                            \n",
      "==============================================================================\n",
      "Dep. Variable:               sppres80   R-squared:                       0.102\n",
      "Model:                            OLS   Adj. R-squared:                  0.101\n",
      "Method:                 Least Squares   F-statistic:                     218.3\n",
      "Date:                Mon, 06 Jun 2022   Prob (F-statistic):           6.85e-47\n",
      "Time:                        17:09:56   Log-Likelihood:                -7773.4\n",
      "No. Observations:                1932   AIC:                         1.555e+04\n",
      "Df Residuals:                    1930   BIC:                         1.556e+04\n",
      "Df Model:                           1                                         \n",
      "Covariance Type:            nonrobust                                         \n",
      "==============================================================================\n",
      "                 coef    std err          t      P>|t|      [0.025      0.975]\n",
      "------------------------------------------------------------------------------\n",
      "Intercept     30.8109      1.055     29.194      0.000      28.741      32.881\n",
      "prestg80       0.3227      0.022     14.777      0.000       0.280       0.366\n",
      "==============================================================================\n",
      "Omnibus:                       43.961   Durbin-Watson:                   1.947\n",
      "Prob(Omnibus):                  0.000   Jarque-Bera (JB):               36.539\n",
      "Skew:                           0.265   Prob(JB):                     1.16e-08\n",
      "Kurtosis:                       2.585   Cond. No.                         166.\n",
      "==============================================================================\n",
      "\n",
      "Notes:\n",
      "[1] Standard Errors assume that the covariance matrix of the errors is correctly specified.\n"
     ]
    }
   ],
   "source": [
    "lm = smf.ols(formula = 'sppres80 ~ prestg80', data = d).fit()\n",
    "print (lm.summary()) "
   ]
  },
  {
   "cell_type": "markdown",
   "id": "da8d4650",
   "metadata": {},
   "source": [
    "## Conclusion: on average, for each one point increase in respondent’s occupational prestige, the prestige of respondent's spouse's occupation will raise 0.323 more prestige points. One possible hypothesis is that people are more likely to choose a spouse with a prestige similar to their profession."
   ]
  },
  {
   "cell_type": "markdown",
   "id": "ce4f0899",
   "metadata": {},
   "source": [
    "# 4. Plot two variables, either as a scatter plot or boxplot; add in trend/regression lines; and explain your results.\n",
    "\n"
   ]
  },
  {
   "cell_type": "code",
   "execution_count": 142,
   "id": "a9855870",
   "metadata": {},
   "outputs": [
    {
     "data": {
      "text/plain": [
       "<AxesSubplot:xlabel='prestg80', ylabel='sppres80'>"
      ]
     },
     "execution_count": 142,
     "metadata": {},
     "output_type": "execute_result"
    },
    {
     "data": {
      "image/png": "[encoded data removed]",
      "text/plain": [
       "<Figure size 432x288 with 1 Axes>"
      ]
     },
     "metadata": {
      "needs_background": "light"
     },
     "output_type": "display_data"
    }
   ],
   "source": [
    "import seaborn as sns\n",
    "sns.regplot(x = d['prestg80'], y = d['sppres80'])"
   ]
  },
  {
   "cell_type": "markdown",
   "id": "7d4090dc",
   "metadata": {},
   "source": [
    "## From the  regression plot above, it is obvious that there is a positive relationship between variable prestg80 and sppres80. As the prestige of the respondent's occupation increases, the occupational prestige of his or her spouse also increases. "
   ]
  },
  {
   "cell_type": "code",
   "execution_count": null,
   "id": "32377e38",
   "metadata": {},
   "outputs": [],
   "source": []
  }
 ],
 "metadata": {
  "kernelspec": {
   "display_name": "Python 3 (ipykernel)",
   "language": "python",
   "name": "python3"
  },
  "language_info": {
   "codemirror_mode": {
    "name": "ipython",
    "version": 3
   },
   "file_extension": ".py",
   "mimetype": "text/x-python",
   "name": "python",
   "nbconvert_exporter": "python",
   "pygments_lexer": "ipython3",
   "version": "3.9.7"
  }
 },
 "nbformat": 4,
 "nbformat_minor": 5
}
